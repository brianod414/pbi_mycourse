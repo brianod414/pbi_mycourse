{
 "cells": [
  {
   "cell_type": "markdown",
   "metadata": {},
   "source": [
    "### Programming for Biomedical Informatics\n",
    "#### Week 4 - Mining & Analysing the Biomedical Literature\n",
    "\n",
    "Using some of the skills we've developed working with eUtils we're now going to do some literature mining and analysis to gather some evidence about a rare genetic disease called Rett Syndrome."
   ]
  },
  {
   "cell_type": "code",
   "execution_count": 2,
   "metadata": {},
   "outputs": [
    {
     "name": "stdout",
     "output_type": "stream",
     "text": [
      "Collecting matplotlib_venn\n",
      "  Downloading matplotlib-venn-1.1.1.tar.gz (40 kB)\n",
      "  Installing build dependencies: started\n",
      "  Installing build dependencies: finished with status 'done'\n",
      "  Getting requirements to build wheel: started\n",
      "  Getting requirements to build wheel: finished with status 'done'\n",
      "  Preparing metadata (pyproject.toml): started\n",
      "  Preparing metadata (pyproject.toml): finished with status 'done'\n",
      "Requirement already satisfied: matplotlib in c:\\users\\s2712192\\appdata\\local\\miniconda3\\envs\\pbi_environment\\lib\\site-packages (from matplotlib_venn) (3.9.2)\n",
      "Requirement already satisfied: numpy in c:\\users\\s2712192\\appdata\\local\\miniconda3\\envs\\pbi_environment\\lib\\site-packages (from matplotlib_venn) (1.26.4)\n",
      "Collecting scipy (from matplotlib_venn)\n",
      "  Downloading scipy-1.14.1-cp312-cp312-win_amd64.whl.metadata (60 kB)\n",
      "Requirement already satisfied: contourpy>=1.0.1 in c:\\users\\s2712192\\appdata\\local\\miniconda3\\envs\\pbi_environment\\lib\\site-packages (from matplotlib->matplotlib_venn) (1.2.0)\n",
      "Requirement already satisfied: cycler>=0.10 in c:\\users\\s2712192\\appdata\\local\\miniconda3\\envs\\pbi_environment\\lib\\site-packages (from matplotlib->matplotlib_venn) (0.11.0)\n",
      "Requirement already satisfied: fonttools>=4.22.0 in c:\\users\\s2712192\\appdata\\local\\miniconda3\\envs\\pbi_environment\\lib\\site-packages (from matplotlib->matplotlib_venn) (4.51.0)\n",
      "Requirement already satisfied: kiwisolver>=1.3.1 in c:\\users\\s2712192\\appdata\\local\\miniconda3\\envs\\pbi_environment\\lib\\site-packages (from matplotlib->matplotlib_venn) (1.4.4)\n",
      "Requirement already satisfied: packaging>=20.0 in c:\\users\\s2712192\\appdata\\local\\miniconda3\\envs\\pbi_environment\\lib\\site-packages (from matplotlib->matplotlib_venn) (24.1)\n",
      "Requirement already satisfied: pillow>=8 in c:\\users\\s2712192\\appdata\\local\\miniconda3\\envs\\pbi_environment\\lib\\site-packages (from matplotlib->matplotlib_venn) (10.4.0)\n",
      "Requirement already satisfied: pyparsing>=2.3.1 in c:\\users\\s2712192\\appdata\\local\\miniconda3\\envs\\pbi_environment\\lib\\site-packages (from matplotlib->matplotlib_venn) (3.1.2)\n",
      "Requirement already satisfied: python-dateutil>=2.7 in c:\\users\\s2712192\\appdata\\local\\miniconda3\\envs\\pbi_environment\\lib\\site-packages (from matplotlib->matplotlib_venn) (2.9.0.post0)\n",
      "Requirement already satisfied: six>=1.5 in c:\\users\\s2712192\\appdata\\local\\miniconda3\\envs\\pbi_environment\\lib\\site-packages (from python-dateutil>=2.7->matplotlib->matplotlib_venn) (1.16.0)\n",
      "Downloading scipy-1.14.1-cp312-cp312-win_amd64.whl (44.5 MB)\n",
      "   ---------------------------------------- 0.0/44.5 MB ? eta -:--:--\n",
      "   -- ------------------------------------- 2.9/44.5 MB 16.8 MB/s eta 0:00:03\n",
      "   ------ --------------------------------- 6.8/44.5 MB 16.8 MB/s eta 0:00:03\n",
      "   --------- ------------------------------ 11.0/44.5 MB 17.6 MB/s eta 0:00:02\n",
      "   ------------- -------------------------- 15.2/44.5 MB 18.0 MB/s eta 0:00:02\n",
      "   ----------------- ---------------------- 19.4/44.5 MB 18.3 MB/s eta 0:00:02\n",
      "   -------------------- ------------------- 23.3/44.5 MB 18.2 MB/s eta 0:00:02\n",
      "   ------------------------ --------------- 27.3/44.5 MB 18.4 MB/s eta 0:00:01\n",
      "   ---------------------------- ----------- 31.5/44.5 MB 18.5 MB/s eta 0:00:01\n",
      "   -------------------------------- ------- 35.7/44.5 MB 18.7 MB/s eta 0:00:01\n",
      "   ------------------------------------ --- 40.4/44.5 MB 18.9 MB/s eta 0:00:01\n",
      "   ---------------------------------------  44.3/44.5 MB 18.9 MB/s eta 0:00:01\n",
      "   ---------------------------------------- 44.5/44.5 MB 17.9 MB/s eta 0:00:00\n",
      "Building wheels for collected packages: matplotlib_venn\n",
      "  Building wheel for matplotlib_venn (pyproject.toml): started\n",
      "  Building wheel for matplotlib_venn (pyproject.toml): finished with status 'done'\n",
      "  Created wheel for matplotlib_venn: filename=matplotlib_venn-1.1.1-py3-none-any.whl size=45335 sha256=0d4af0c54868b875741a6310fe8b36f26da3bfdf595bfae8b704f1785af39ce2\n",
      "  Stored in directory: c:\\users\\s2712192\\appdata\\local\\pip\\cache\\wheels\\8a\\29\\52\\4d90d9556445079f88255b87a75d951357eff52d0795b88f4f\n",
      "Successfully built matplotlib_venn\n",
      "Installing collected packages: scipy, matplotlib_venn\n",
      "Successfully installed matplotlib_venn-1.1.1 scipy-1.14.1\n"
     ]
    }
   ],
   "source": [
    "! pip install matplotlib_venn"
   ]
  },
  {
   "cell_type": "code",
   "execution_count": 8,
   "metadata": {},
   "outputs": [],
   "source": [
    "'''In this script we are going to directly query eUtils using the requests library. This is because it allows us to easily specify the parameters and use the history feature of eUtils to make large queries efficiently.\n",
    "In the code below you should begin to see a pattern for how we approach the mapping process.'''\n",
    "\n",
    "# Preliminaries\n",
    "import urllib.request\n",
    "import random\n",
    "import pandas as pd\n",
    "import matplotlib.pyplot as plt\n",
    "from matplotlib_venn import venn2 # need to download with pip (see above box) \n",
    "\n",
    "# we will use this to allow us to search the XML content retutned by the eUtils API\n",
    "import xml.etree.ElementTree as ET\n",
    "\n",
    "# load my API key from the file\n",
    "with open('../../../pbi_mycourse/API Keys/ncbi.txt', 'r') as file:\n",
    "    api_key = file.read().strip()\n",
    "\n",
    "with open('../../../pbi_mycourse/API Keys/ncbi_email.txt', 'r') as file:\n",
    "    email = file.read().strip()"
   ]
  },
  {
   "cell_type": "code",
   "execution_count": null,
   "metadata": {},
   "outputs": [],
   "source": [
    "# Step 1 - Creating a specific search to find articles relating to Rett Syndrome\n",
    "\n",
    "'''A good place to start is to search MeSH to see if a specific term for \"Rett Syndrom\" exists. If it does we can\n",
    "use this to perform a PubMed search. Experimentally it makes sense to try a few different phrasings and methods\n",
    "to search for Rett Syndrome to see how much the results vary.\n",
    "\n",
    "https://meshb.nlm.nih.gov\n",
    "\n",
    "It would make sense to do some analysis of this; for example we could retrieve the PubMedIds for the different searches\n",
    "and comapre them to see how much overlap there is. This would give us confidence in our search strategy.'''"
   ]
  },
  {
   "cell_type": "code",
   "execution_count": 10,
   "metadata": {},
   "outputs": [],
   "source": [
    "# Search PubMed for articles relating to Rett Syndrome using eUtils API\n",
    "# Define the parameters for the eSearch request\n",
    "\n",
    "'''as we're going to make a few different searches we can define a function to do this for us'''\n",
    "\n",
    "def pubmed_search_count(query, api_key, email):\n",
    "\n",
    "    # define the parameters for the eSearch request\n",
    "    esearch_params = {\n",
    "        'db': 'pubmed',\n",
    "        'term': query,\n",
    "        'api_key': api_key,\n",
    "        'email': email\n",
    "    }\n",
    "\n",
    "    # encode the parameters so they can be passed to the API\n",
    "    encoded_data = urllib.parse.urlencode(esearch_params).encode('utf-8')\n",
    "\n",
    "    # the base request url for eSearch\n",
    "    url = f\"https://eutils.ncbi.nlm.nih.gov/entrez/eutils/esearch.fcgi\"\n",
    "\n",
    "    # make the request\n",
    "    request = urllib.request.Request(url, data=encoded_data)\n",
    "    response = urllib.request.urlopen(request)\n",
    "\n",
    "    # read into an XML object\n",
    "    esaerch_data_XML = ET.fromstring(response.read())\n",
    "\n",
    "    # extract the couunt of the number of articles found\n",
    "    count = int(esaerch_data_XML.find('Count').text)\n",
    "\n",
    "    print(f\"Found {count} articles\")"
   ]
  },
  {
   "cell_type": "code",
   "execution_count": 13,
   "metadata": {},
   "outputs": [
    {
     "name": "stdout",
     "output_type": "stream",
     "text": [
      "Found 3073 articles\n"
     ]
    }
   ],
   "source": [
    "# try a search with the MeSH term for Rett Syndrome\n",
    "\n",
    "pubmed_search_count('\"Rett Syndrome\"[MH]', api_key, email) # see nested speech marks "
   ]
  },
  {
   "cell_type": "code",
   "execution_count": 14,
   "metadata": {},
   "outputs": [
    {
     "name": "stdout",
     "output_type": "stream",
     "text": [
      "Found 4710 articles\n"
     ]
    }
   ],
   "source": [
    "# now lets try an allfields search for Rett Syndrome\n",
    "\n",
    "# general rett syndrome search without any key (field) tag - does an all fields search \n",
    "pubmed_search_count('Rett Syndrome', api_key, email)"
   ]
  },
  {
   "cell_type": "code",
   "execution_count": 16,
   "metadata": {},
   "outputs": [
    {
     "name": "stdout",
     "output_type": "stream",
     "text": [
      "20\n",
      "['39384967', '39331775', '39305343', '39300547', '39269588', '39266326', '39258941', '39245841', '39232000', '39202466', '39138481', '39117159', '39074906', '39061009', '39033100', '39020317', '39003968', '39002354', '38997830', '38981105']\n"
     ]
    }
   ],
   "source": [
    "# lets modify the function above to return the list of PubMedIds\n",
    "\n",
    "def pubmed_search_ids(query, api_key, email):\n",
    "    \n",
    "        # define the parameters for the eSearch request\n",
    "        esearch_params = {\n",
    "            'db': 'pubmed',\n",
    "            'term': query,\n",
    "            'api_key': api_key,\n",
    "            'email': email\n",
    "        }\n",
    "\n",
    "        # encode the parameters so they can be passed to the API\n",
    "        encoded_data = urllib.parse.urlencode(esearch_params).encode('utf-8')\n",
    "\n",
    "        # the base request url for eSearch\n",
    "        url = f\"https://eutils.ncbi.nlm.nih.gov/entrez/eutils/esearch.fcgi\"\n",
    "\n",
    "        # make the request\n",
    "        request = urllib.request.Request(url, data=encoded_data)\n",
    "        response = urllib.request.urlopen(request)\n",
    "\n",
    "        # read into an XML object\n",
    "        esaerch_data_XML = ET.fromstring(response.read())\n",
    "\n",
    "        # extract all the IDs in the response\n",
    "        ids = [id.text for id in esaerch_data_XML.findall('IdList/Id')]\n",
    "\n",
    "        return ids\n",
    "\n",
    "\n",
    "# try a search with the MeSH term for Rett Syndrome\n",
    "ids = pubmed_search_ids('\"Rett Syndrome\"[MH]', api_key, email)\n",
    "\n",
    "# print the number of ids found\n",
    "print(len(ids))\n",
    "\n",
    "print(ids)\n",
    "\n",
    "# only prints 20 id's and we know we have thousands, default of eutil is 20 entries "
   ]
  },
  {
   "cell_type": "code",
   "execution_count": null,
   "metadata": {},
   "outputs": [],
   "source": [
    "'''so you can see the search by default will return 20 ids (you can modify retmax, but you'd need to adjust it based on the count return\n",
    "which in effect would call the search twice. This is why we use the history feature of eUtils to make large queries efficiently)'''"
   ]
  },
  {
   "cell_type": "code",
   "execution_count": 30,
   "metadata": {},
   "outputs": [],
   "source": [
    "# lets modify the function above to return the list of PubMedIds\n",
    "\n",
    "def pubmed_search_ids(query, api_key, email):\n",
    "    \n",
    "        # define the parameters for the eSearch request\n",
    "        esearch_params = {\n",
    "            'db': 'pubmed',\n",
    "            'term': query,\n",
    "            'api_key': api_key,\n",
    "            'email': email,\n",
    "            'usehistory': 'y' # new addition  \n",
    "        }\n",
    "\n",
    "        # encode the parameters so they can be passed to the API\n",
    "        encoded_data = urllib.parse.urlencode(esearch_params).encode('utf-8')\n",
    "\n",
    "        # the base request url for eSearch\n",
    "        url = f\"https://eutils.ncbi.nlm.nih.gov/entrez/eutils/esearch.fcgi\"\n",
    "\n",
    "        # make the request\n",
    "        request = urllib.request.Request(url, data=encoded_data)\n",
    "        response = urllib.request.urlopen(request)\n",
    "\n",
    "        # read into an XML object\n",
    "        esearch_data_XML = ET.fromstring(response.read())\n",
    "\n",
    "        # extract the WebEnv and QueryKey new additions \n",
    "        webenv = esearch_data_XML.find('WebEnv').text \n",
    "        query_key = esearch_data_XML.find('QueryKey').text\n",
    "\n",
    "        # define the parameters for the eSummary request\n",
    "        esummary_params = {\n",
    "                'db': 'pubmed', \n",
    "                'query_key' : query_key,\n",
    "                'webenv' : webenv,\n",
    "                'api_key' : api_key,\n",
    "                ' email' : email\n",
    "        }\n",
    "\n",
    "        # encode the parmeters so they can be passed to the API\n",
    "        encoded_data = urllib.parse.urlencode(esummary_params).encode('utf-8')\n",
    "\n",
    "        # the base request url for eSummary\n",
    "        url = f\"https://eutils.ncbi.nlm.nih.gov/entrez/eutils/esummary.fcgi\"\n",
    "\n",
    "        # make the request\n",
    "        request = urllib.request.Request(url, data=encoded_data)\n",
    "        response = urllib.request.urlopen(request) # xml return \n",
    "\n",
    "        # read into an XML object\n",
    "        esummary_data_XML = ET.fromstring(response.read())\n",
    "\n",
    "        # extract all the IDs in the response\n",
    "        ids = [id.text for id in esummary_data_XML.findall('DocSum/Id')]\n",
    "\n",
    "\n",
    "        return ids"
   ]
  },
  {
   "cell_type": "code",
   "execution_count": 31,
   "metadata": {},
   "outputs": [
    {
     "name": "stdout",
     "output_type": "stream",
     "text": [
      "3073\n"
     ]
    }
   ],
   "source": [
    "# try a search with the MeSH term for Rett Syndrome\n",
    "q1_ids = pubmed_search_ids('\"Rett Syndrome\"[MH]', api_key, email)\n",
    "\n",
    "# [romt the ;ength of the list of ids]\n",
    "print(len(q1_ids))"
   ]
  },
  {
   "cell_type": "code",
   "execution_count": 32,
   "metadata": {},
   "outputs": [
    {
     "name": "stdout",
     "output_type": "stream",
     "text": [
      "3073\n"
     ]
    }
   ],
   "source": [
    "# try a search with the MeSH term for Rett Syndrome\n",
    "q1_ids = pubmed_search_ids('\"Rett Syndrome\"[MH]', api_key, email)\n",
    "\n",
    "# print the number of ids found\n",
    "print(len(q1_ids))"
   ]
  },
  {
   "cell_type": "code",
   "execution_count": 33,
   "metadata": {},
   "outputs": [
    {
     "name": "stdout",
     "output_type": "stream",
     "text": [
      "4127\n"
     ]
    }
   ],
   "source": [
    "# and finally a Title and Abstract restricted search\n",
    "q2_ids =pubmed_search_ids('Rett Syndrome[Title/Abstract]', api_key, email)\n",
    "\n",
    "# print the number of ids found\n",
    "print(len(q2_ids))"
   ]
  },
  {
   "cell_type": "code",
   "execution_count": 34,
   "metadata": {},
   "outputs": [],
   "source": [
    "#lets use pythons set comparison to see how many ids are in common between the three searches\n",
    "common_ids = set(q1_ids).intersection(set(q2_ids))\n",
    "\n"
   ]
  },
  {
   "cell_type": "code",
   "execution_count": 35,
   "metadata": {},
   "outputs": [
    {
     "data": {
      "image/png": "[encoded data removed]",
      "text/plain": [
       "<Figure size 640x480 with 1 Axes>"
      ]
     },
     "metadata": {},
     "output_type": "display_data"
    }
   ],
   "source": [
    "# using matplotlib_venn to plot a venn diagram of the results\n",
    "\n",
    "# create the venn diagram\n",
    "venn2([set(q1_ids), set(q2_ids)], ('MeSH', 'Title and Abstract'))\n",
    "\n",
    "# show the plot\n",
    "plt.show();"
   ]
  },
  {
   "cell_type": "code",
   "execution_count": 41,
   "metadata": {},
   "outputs": [],
   "source": [
    "# We'll pick the first unique article from each search and retrieve the title and abstract\n",
    "\n",
    "# define a function to retrieve the title, abstract and authors for a given PMID\n",
    "def pubmed_fetch_tiab(pmid, api_key, email):\n",
    "        \n",
    "        # define the parameters for the eFetch request\n",
    "        efetch_params = {\n",
    "            'db': 'pubmed',\n",
    "            'id': pmid,\n",
    "            'retmode': 'xml',\n",
    "            'api_key': api_key,\n",
    "            'email': email\n",
    "        }\n",
    "\n",
    "        # encode the parameters so they can be passed to the API\n",
    "        encoded_data = urllib.parse.urlencode(efetch_params).encode('utf-8')\n",
    "\n",
    "        # the base request url for eFetch\n",
    "        url = f\"https://eutils.ncbi.nlm.nih.gov/entrez/eutils/efetch.fcgi\"\n",
    "\n",
    "        # make the request\n",
    "        request = urllib.request.Request(url, data=encoded_data)\n",
    "        response = urllib.request.urlopen(request)\n",
    "\n",
    "        # read into an XML object\n",
    "        efetch_data_XML = ET.fromstring(response.read())\n",
    "\n",
    "        # remember we can print this to work out how to formulate the XML query\n",
    "        print(ET.tostring(efetch_data_XML, encoding='utf8').decode('utf8'))\n",
    "\n",
    "        # extract the title, abstract and MeSH terms\n",
    "        for article in efetch_data_XML.findall('PubmedArticle'):\n",
    "            title = article.find('MedlineCitation/Article/ArticleTitle').text # since its an element tree we only want the text value \n",
    "            abstract = article.find('MedlineCitation/Article/Abstract/AbstractText').text\n",
    "            mesh_terms = [mesh_term.text for mesh_term in article.findall('MedlineCitation/MeshHeadingList/MeshHeading/DescriptorName')]\n",
    "\n",
    "        return title, abstract, mesh_terms"
   ]
  },
  {
   "cell_type": "code",
   "execution_count": 43,
   "metadata": {},
   "outputs": [
    {
     "name": "stdout",
     "output_type": "stream",
     "text": [
      "<?xml version='1.0' encoding='utf8'?>\n",
      "<PubmedArticleSet>\n",
      "<PubmedArticle><MedlineCitation Status=\"MEDLINE\" Owner=\"NLM\"><PMID Version=\"1\">28369421</PMID><DateCompleted><Year>2017</Year><Month>10</Month><Day>12</Day></DateCompleted><DateRevised><Year>2022</Year><Month>01</Month><Day>29</Day></DateRevised><Article PubModel=\"Print\"><Journal><ISSN IssnType=\"Electronic\">1460-2083</ISSN><JournalIssue CitedMedium=\"Internet\"><Volume>26</Volume><Issue>12</Issue><PubDate><Year>2017</Year><Month>Jun</Month><Day>15</Day></PubDate></JournalIssue><Title>Human molecular genetics</Title><ISOAbbreviation>Hum Mol Genet</ISOAbbreviation></Journal><ArticleTitle>Searching for biomarkers of CDKL5 disorder: early-onset visual impairment in CDKL5 mutant mice.</ArticleTitle><Pagination><StartPage>2290</StartPage><EndPage>2298</EndPage><MedlinePgn>2290-2298</MedlinePgn></Pagination><ELocationID EIdType=\"doi\" ValidYN=\"Y\">10.1093/hmg/ddx119</ELocationID><Abstract><AbstractText>CDKL5 disorder is a neurodevelopmental disorder still without a cure. Murine models of CDKL5 disorder have been recently generated raising the possibility of preclinical testing of treatments. However, unbiased, quantitative biomarkers of high translational value to monitor brain function are still missing. Moreover, the analysis of treatment is hindered by the challenge of repeatedly and non-invasively testing neuronal function. We analyzed the development of visual responses in a mouse model of CDKL5 disorder to introduce visually evoked responses as a quantitative method to assess cortical circuit function. Cortical visual responses were assessed in CDKL5 null male mice, heterozygous females, and their respective control wild-type littermates by repeated transcranial optical imaging from P27 until P32. No difference between wild-type and mutant mice was present at P25-P26 whereas defective responses appeared from P27-P28 both in heterozygous and homozygous CDKL5 mutant mice. These results were confirmed by visually evoked potentials (VEPs) recorded from the visual cortex of a different cohort. The previously imaged mice were also analyzed at P60-80 using VEPs, revealing a persistent reduction of response amplitude, reduced visual acuity and defective contrast function. The level of adult impairment was significantly correlated with the reduction in visual responses observed during development. Support vector machine showed that multi-dimensional visual assessment can be used to automatically classify mutant and wt mice with high reliability. Thus, monitoring visual responses represents a promising biomarker for preclinical and clinical studies on CDKL5 disorder.</AbstractText><CopyrightInformation>© The Author 2017. Published by Oxford University Press.</CopyrightInformation></Abstract><AuthorList CompleteYN=\"Y\"><Author ValidYN=\"Y\"><LastName>Mazziotti</LastName><ForeName>Raffaele</ForeName><Initials>R</Initials><AffiliationInfo><Affiliation>Department of Neuroscience, Psychology, Drug Research and Child Health (NEUROFARBA), University of Florence, Area San Salvi - Pad. 26, 50135 Florence, Italy.</Affiliation></AffiliationInfo></Author><Author ValidYN=\"Y\"><LastName>Lupori</LastName><ForeName>Leonardo</ForeName><Initials>L</Initials><AffiliationInfo><Affiliation>BIO@SNS Lab, Scuola Normale Superiore via Moruzzi, 1?56124 Pisa, Italy.</Affiliation></AffiliationInfo></Author><Author ValidYN=\"Y\"><LastName>Sagona</LastName><ForeName>Giulia</ForeName><Initials>G</Initials><AffiliationInfo><Affiliation>Department of Neuroscience, Psychology, Drug Research and Child Health (NEUROFARBA), University of Florence, Area San Salvi - Pad. 26, 50135 Florence, Italy.</Affiliation></AffiliationInfo></Author><Author ValidYN=\"Y\"><LastName>Gennaro</LastName><ForeName>Mariangela</ForeName><Initials>M</Initials><AffiliationInfo><Affiliation>Department of Neuroscience, Psychology, Drug Research and Child Health (NEUROFARBA), University of Florence, Area San Salvi - Pad. 26, 50135 Florence, Italy.</Affiliation></AffiliationInfo><AffiliationInfo><Affiliation>Institute of Neuroscience, National Research Council, via Moruzzi, 1 56124 Pisa, Italy.</Affiliation></AffiliationInfo></Author><Author ValidYN=\"Y\"><LastName>Della Sala</LastName><ForeName>Grazia</ForeName><Initials>G</Initials><AffiliationInfo><Affiliation>Department of Neuroscience, Psychology, Drug Research and Child Health (NEUROFARBA), University of Florence, Area San Salvi - Pad. 26, 50135 Florence, Italy.</Affiliation></AffiliationInfo><AffiliationInfo><Affiliation>Institute of Neuroscience, National Research Council, via Moruzzi, 1 56124 Pisa, Italy.</Affiliation></AffiliationInfo></Author><Author ValidYN=\"Y\"><LastName>Putignano</LastName><ForeName>Elena</ForeName><Initials>E</Initials><AffiliationInfo><Affiliation>Institute of Neuroscience, National Research Council, via Moruzzi, 1?56124 Pisa, Italy.</Affiliation></AffiliationInfo></Author><Author ValidYN=\"Y\"><LastName>Pizzorusso</LastName><ForeName>Tommaso</ForeName><Initials>T</Initials><AffiliationInfo><Affiliation>Department of Neuroscience, Psychology, Drug Research and Child Health (NEUROFARBA), University of Florence, Area San Salvi - Pad. 26, 50135 Florence, Italy.</Affiliation></AffiliationInfo><AffiliationInfo><Affiliation>BIO@SNS Lab, Scuola Normale Superiore via Moruzzi, 1 56124 Pisa, Italy.</Affiliation></AffiliationInfo><AffiliationInfo><Affiliation>Institute of Neuroscience, National Research Council, via Moruzzi, 1 56124 Pisa, Italy.</Affiliation></AffiliationInfo></Author></AuthorList><Language>eng</Language><GrantList CompleteYN=\"Y\"><Grant><GrantID>GGP15098</GrantID><Acronym>TI_</Acronym><Agency>Telethon</Agency><Country>Italy</Country></Grant></GrantList><PublicationTypeList><PublicationType UI=\"D016428\">Journal Article</PublicationType></PublicationTypeList></Article><MedlineJournalInfo><Country>England</Country><MedlineTA>Hum Mol Genet</MedlineTA><NlmUniqueID>9208958</NlmUniqueID><ISSNLinking>0964-6906</ISSNLinking></MedlineJournalInfo><ChemicalList><Chemical><RegistryNumber>0</RegistryNumber><NameOfSubstance UI=\"D015415\">Biomarkers</NameOfSubstance></Chemical><Chemical><RegistryNumber>EC 2.7.11.1</RegistryNumber><NameOfSubstance UI=\"D017346\">Protein Serine-Threonine Kinases</NameOfSubstance></Chemical></ChemicalList><SupplMeshList><SupplMeshName Type=\"Disease\" UI=\"C564064\">CDKL5 deficiency disorder</SupplMeshName></SupplMeshList><CitationSubset>IM</CitationSubset><MeshHeadingList><MeshHeading><DescriptorName UI=\"D000818\" MajorTopicYN=\"N\">Animals</DescriptorName></MeshHeading><MeshHeading><DescriptorName UI=\"D015415\" MajorTopicYN=\"N\">Biomarkers</DescriptorName></MeshHeading><MeshHeading><DescriptorName UI=\"D004195\" MajorTopicYN=\"N\">Disease Models, Animal</DescriptorName></MeshHeading><MeshHeading><DescriptorName UI=\"D000073376\" MajorTopicYN=\"N\">Epileptic Syndromes</DescriptorName></MeshHeading><MeshHeading><DescriptorName UI=\"D005074\" MajorTopicYN=\"N\">Evoked Potentials, Visual</DescriptorName></MeshHeading><MeshHeading><DescriptorName UI=\"D051379\" MajorTopicYN=\"N\">Mice</DescriptorName></MeshHeading><MeshHeading><DescriptorName UI=\"D018345\" MajorTopicYN=\"N\">Mice, Knockout</DescriptorName></MeshHeading><MeshHeading><DescriptorName UI=\"D009474\" MajorTopicYN=\"N\">Neurons</DescriptorName><QualifierName UI=\"Q000378\" MajorTopicYN=\"N\">metabolism</QualifierName></MeshHeading><MeshHeading><DescriptorName UI=\"D017346\" MajorTopicYN=\"N\">Protein Serine-Threonine Kinases</DescriptorName><QualifierName UI=\"Q000378\" MajorTopicYN=\"N\">metabolism</QualifierName></MeshHeading><MeshHeading><DescriptorName UI=\"D015203\" MajorTopicYN=\"N\">Reproducibility of Results</DescriptorName></MeshHeading><MeshHeading><DescriptorName UI=\"D015518\" MajorTopicYN=\"N\">Rett Syndrome</DescriptorName><QualifierName UI=\"Q000175\" MajorTopicYN=\"N\">diagnosis</QualifierName><QualifierName UI=\"Q000235\" MajorTopicYN=\"Y\">genetics</QualifierName><QualifierName UI=\"Q000378\" MajorTopicYN=\"N\">metabolism</QualifierName></MeshHeading><MeshHeading><DescriptorName UI=\"D013036\" MajorTopicYN=\"N\">Spasms, Infantile</DescriptorName><QualifierName UI=\"Q000175\" MajorTopicYN=\"N\">diagnosis</QualifierName><QualifierName UI=\"Q000235\" MajorTopicYN=\"Y\">genetics</QualifierName><QualifierName UI=\"Q000378\" MajorTopicYN=\"N\">metabolism</QualifierName></MeshHeading><MeshHeading><DescriptorName UI=\"D014786\" MajorTopicYN=\"N\">Vision Disorders</DescriptorName><QualifierName UI=\"Q000503\" MajorTopicYN=\"N\">physiopathology</QualifierName></MeshHeading><MeshHeading><DescriptorName UI=\"D014792\" MajorTopicYN=\"N\">Visual Acuity</DescriptorName></MeshHeading><MeshHeading><DescriptorName UI=\"D014793\" MajorTopicYN=\"N\">Visual Cortex</DescriptorName><QualifierName UI=\"Q000378\" MajorTopicYN=\"N\">metabolism</QualifierName></MeshHeading></MeshHeadingList></MedlineCitation><PubmedData><History><PubMedPubDate PubStatus=\"received\"><Year>2017</Year><Month>1</Month><Day>22</Day></PubMedPubDate><PubMedPubDate PubStatus=\"accepted\"><Year>2017</Year><Month>3</Month><Day>25</Day></PubMedPubDate><PubMedPubDate PubStatus=\"pubmed\"><Year>2017</Year><Month>4</Month><Day>4</Day><Hour>6</Hour><Minute>0</Minute></PubMedPubDate><PubMedPubDate PubStatus=\"medline\"><Year>2017</Year><Month>10</Month><Day>13</Day><Hour>6</Hour><Minute>0</Minute></PubMedPubDate><PubMedPubDate PubStatus=\"entrez\"><Year>2017</Year><Month>4</Month><Day>4</Day><Hour>6</Hour><Minute>0</Minute></PubMedPubDate><PubMedPubDate PubStatus=\"pmc-release\"><Year>2017</Year><Month>3</Month><Day>28</Day></PubMedPubDate></History><PublicationStatus>ppublish</PublicationStatus><ArticleIdList><ArticleId IdType=\"pubmed\">28369421</ArticleId><ArticleId IdType=\"pmc\">PMC5458338</ArticleId><ArticleId IdType=\"doi\">10.1093/hmg/ddx119</ArticleId><ArticleId IdType=\"pii\">3091880</ArticleId></ArticleIdList><ReferenceList><Reference><Citation>Fehr S., Wilson M., Downs J., Williams S., Murgia A., Sartori S., Vecchi M., Ho G., Polli R., Psoni S.. et al. (2012) The cdkl5 disorder is an independent clinical entity associated with early-onset encephalopathy. Eur. J. Hum. Genet., 21, 266–273.</Citation><ArticleIdList><ArticleId IdType=\"pmc\">PMC3573195</ArticleId><ArticleId IdType=\"pubmed\">22872100</ArticleId></ArticleIdList></Reference><Reference><Citation>Rusconi L., Salvatoni L., Giudici L., Bertani I., Kilstrup-Nielsen C., Broccoli V., Landsberger N. (2008) cdkl5 expression is modulated during neuronal development and its subcellular distribution is tightly regulated by the C-terminal tail. J. Biol. Chem., 283, 30101–30111.</Citation><ArticleIdList><ArticleId IdType=\"pmc\">PMC2662074</ArticleId><ArticleId IdType=\"pubmed\">18701457</ArticleId></ArticleIdList></Reference><Reference><Citation>Ricciardi S., Ungaro F., Hambrock M., Rademacher N., Stefanelli G., Brambilla D., Sessa A., Magagnotti C., Bachi A., Giarda E.. et al. (2012) cdkl5 ensures excitatory synapse stability by reinforcing NGL-1–PSD95 interaction in the postsynaptic compartment and is impaired in patient iPSC-derived neurons. Nat. Cell Biol., 14, 911–923.</Citation><ArticleIdList><ArticleId IdType=\"pmc\">PMC6485419</ArticleId><ArticleId IdType=\"pubmed\">22922712</ArticleId></ArticleIdList></Reference><Reference><Citation>Della Sala G., Putignano E., Chelini G., Melani R., Calcagno E., Michele Ratto G., Amendola E., Gross C.T., Giustetto M., Pizzorusso T. (2016) Dendritic spine instability in a mouse model of cdkl5 disorder is rescued by insulin-like growth factor 1. Biol. Psychiatry, 80, 302–311.</Citation><ArticleIdList><ArticleId IdType=\"pubmed\">26452614</ArticleId></ArticleIdList></Reference><Reference><Citation>Zhang Y., Matt L., Patriarchi T., Malik Z.A., Chowdhury D., Park D.K., Renieri A., Ames J.B., Hell J.W. (2014) Capping of the N-terminus of PSD5 by calmodulin triggers its postsynaptic release. EMBO J, 33, 1341–53. doi:10.1002/embj.201488126.</Citation><ArticleIdList><ArticleId IdType=\"pmc\">PMC4194123</ArticleId><ArticleId IdType=\"pubmed\">24705785</ArticleId></ArticleIdList></Reference><Reference><Citation>Zhu Y.-C., Li D., Wang L., Lu B., Zheng J., Zhao S.-L., Zeng R., Xiong Z.-Q. (2013) Palmitoylation-dependent cdkl5-PSD-95 interaction regulates synaptic targeting of cdkl5 and dendritic spine development. Proc. Natl. Acad. Sci., 110, 9118–9123.</Citation><ArticleIdList><ArticleId IdType=\"pmc\">PMC3670390</ArticleId><ArticleId IdType=\"pubmed\">23671101</ArticleId></ArticleIdList></Reference><Reference><Citation>Chen Q., Zhu Y.-C., Yu J., Miao S., Zheng J., Xu L., Zhou Y., Li D., Zhang C., Tao J.. et al. (2010) cdkl5, a protein associated with Rett syndrome, regulates neuronal morphogenesis via Rac1 signaling. J. Neurosci., 30, 12777–12786.</Citation><ArticleIdList><ArticleId IdType=\"pmc\">PMC6633570</ArticleId><ArticleId IdType=\"pubmed\">20861382</ArticleId></ArticleIdList></Reference><Reference><Citation>Hector R.D., Dando O., Landsberger N., Kilstrup-Nielsen C., Kind P.C., Bailey M.E.S., Cobb S.R. (2016) Characterisation of cdkl5 transcript isoforms in human and mouse. PLoS One, 11, e0157758..</Citation><ArticleIdList><ArticleId IdType=\"pmc\">PMC4912119</ArticleId><ArticleId IdType=\"pubmed\">27315173</ArticleId></ArticleIdList></Reference><Reference><Citation>Amendola E., Zhan Y., Mattucci C., Castroflorio E., Calcagno E., Fuchs C., Lonetti G., Silingardi D., Vyssotski A.L., Farley D.. et al. (2014) Mapping pathological phenotypes in a mouse model of cdkl5 disorder. PLoS One, 9, e91613..</Citation><ArticleIdList><ArticleId IdType=\"pmc\">PMC4023934</ArticleId><ArticleId IdType=\"pubmed\">24838000</ArticleId></ArticleIdList></Reference><Reference><Citation>Wang I.-T.J., Allen M., Goffin D., Zhu X., Fairless A.H., Brodkin E.S., Siegel S.J., Marsh E.D., Blendy J.A., Zhou Z. (2012) Loss of cdkl5 disrupts kinome profile and event-related potentials leading to autistic-like phenotypes in mice. Proc. Natl. Acad. Sci., 109, 21516–21521.</Citation><ArticleIdList><ArticleId IdType=\"pmc\">PMC3535652</ArticleId><ArticleId IdType=\"pubmed\">23236174</ArticleId></ArticleIdList></Reference><Reference><Citation>LeBlanc J.J., DeGregorio G., Centofante E., Vogel-Farley V.K., Barnes K., Kaufmann W.E., Fagiolini M., Nelson C.A. (2015) Visual evoked potentials detect cortical processing deficits in Rett syndrome. Ann. Neurol., 78, 775–786.</Citation><ArticleIdList><ArticleId IdType=\"pmc\">PMC7374762</ArticleId><ArticleId IdType=\"pubmed\">26332183</ArticleId></ArticleIdList></Reference><Reference><Citation>Durand S., Patrizi A., Quast K.B., Hachigian L., Pavlyuk R., Saxena A., Carninci P., Hensch T.K., Fagiolini M. (2012) NMDA receptor regulation prevents regression of visual cortical function in the absence of Mecp2. Neuron, 76, 1078–1090.</Citation><ArticleIdList><ArticleId IdType=\"pmc\">PMC3733788</ArticleId><ArticleId IdType=\"pubmed\">23259945</ArticleId></ArticleIdList></Reference><Reference><Citation>Moseley B.D., Dhamija R., Wirrell E.C., Nickels K.C. (2012) Historic, clinical, and prognostic features of epileptic encephalopathies caused by cdkl5 mutations. Pediatr. Neurol., 46, 101–105.</Citation><ArticleIdList><ArticleId IdType=\"pubmed\">22264704</ArticleId></ArticleIdList></Reference><Reference><Citation>Bahi-Buisson N., Nectoux J., Rosas-Vargas H., Milh M., Boddaert N., Girard B., Cances C., Ville D., Afenjar A., Rio M.. et al. (2008) Key clinical features to identify girls with cdkl5 mutations. Brain, 131, 2647–2661.</Citation><ArticleIdList><ArticleId IdType=\"pubmed\">18790821</ArticleId></ArticleIdList></Reference><Reference><Citation>Paine S.M.L., Munot P., Carmichael J., Das K., Weber M.A., Prabhakar P., Jacques T.S. (2012) The neuropathological consequences of cdkl5 mutation. Neuropathol. Appl. Neurobiol., 38, 744–747.</Citation><ArticleIdList><ArticleId IdType=\"pubmed\">22812903</ArticleId></ArticleIdList></Reference><Reference><Citation>Stalpers X.L., Spruijt L., Yntema H.G., Verrips A. (2012) Clinical phenotype of 5 females with a cdkl5 mutation. J. Child Neurol., 27, 90–93.</Citation><ArticleIdList><ArticleId IdType=\"pubmed\">21765152</ArticleId></ArticleIdList></Reference><Reference><Citation>Melani F., Mei D., Pisano T., Savasta S., Franzoni E., Ferrari A.R., Marini C., Guerrini R. (2011) cdkl5 gene-related epileptic encephalopathy: electroclinical findings in the first year of life. Dev. Med. Child Neurol., 53, 354–360.</Citation><ArticleIdList><ArticleId IdType=\"pubmed\">21309761</ArticleId></ArticleIdList></Reference><Reference><Citation>Espinosa J.S., Sebastian Espinosa J., Stryker M.P. (2012) Development and plasticity of the primary visual cortex. Neuron, 75, 230–249.</Citation><ArticleIdList><ArticleId IdType=\"pmc\">PMC3612584</ArticleId><ArticleId IdType=\"pubmed\">22841309</ArticleId></ArticleIdList></Reference><Reference><Citation>Riddell P.M., Ladenheim B., Mast J., Catalano T., Nobile R., Hainline L. (1997) Comparison of measures of visual acuity in infants: Teller acuity cards and sweep visual evoked potentials. Optom. Vis. Sci., 74, 702–707.</Citation><ArticleIdList><ArticleId IdType=\"pubmed\">9380367</ArticleId></ArticleIdList></Reference><Reference><Citation>Kang E., Durand S., LeBlanc J.J., Hensch T.K., Chen C., Fagiolini M. (2013) Visual acuity development and plasticity in the absence of sensory experience. J. Neurosci., 33, 17789–17796.</Citation><ArticleIdList><ArticleId IdType=\"pmc\">PMC3818552</ArticleId><ArticleId IdType=\"pubmed\">24198369</ArticleId></ArticleIdList></Reference><Reference><Citation>Prusky G.T., Douglas R.M. (2003) Developmental plasticity of mouse visual acuity. Eur. J. Neurosci., 17, 167–173.</Citation><ArticleIdList><ArticleId IdType=\"pubmed\">12534981</ArticleId></ArticleIdList></Reference><Reference><Citation>Porciatti V., Pizzorusso T., Maffei L. (1999) The visual physiology of the wild type mouse determined with pattern VEPs. Vis. Res., 39, 3071–3081.</Citation><ArticleIdList><ArticleId IdType=\"pubmed\">10664805</ArticleId></ArticleIdList></Reference><Reference><Citation>Albrecht D.G., Hamilton D.B. (1982) Striate cortex of monkey and cat: contrast response function. J. Neurophysiol., 48, 217–237.</Citation><ArticleIdList><ArticleId IdType=\"pubmed\">7119846</ArticleId></ArticleIdList></Reference><Reference><Citation>Naka K.I., Rushton W.A. (1966) S-potentials from colour units in the retina of fish (Cyprinidae). J. Physiol., 185, 536–555.</Citation><ArticleIdList><ArticleId IdType=\"pmc\">PMC1395833</ArticleId><ArticleId IdType=\"pubmed\">5918058</ArticleId></ArticleIdList></Reference><Reference><Citation>Fuchs C., Rimondini R., Viggiano R., Trazzi S., De Franceschi M., Bartesaghi R., Ciani E. (2015) Inhibition of GSK3β rescues hippocampal development and learning in a mouse model of cdkl5 disorder. Neurobiol. Dis., 82, 298–310.</Citation><ArticleIdList><ArticleId IdType=\"pubmed\">26143616</ArticleId></ArticleIdList></Reference><Reference><Citation>Trazzi S., Fuchs C., Viggiano R., De Franceschi M., Valli E., Jedynak P., Hansen F.K., Perini G., Rimondini R., Kurz T.. et al. (2016) HDAC4: a key factor underlying brain developmental alterations in cdkl5 disorder. Hum. Mol. Genet., 25, 3887–3907.</Citation><ArticleIdList><ArticleId IdType=\"pubmed\">27466189</ArticleId></ArticleIdList></Reference><Reference><Citation>Begenisic T., Sansevero G., Baroncelli L., Cioni G., Sale A. (2015) Early environmental therapy rescues brain development in a mouse model of Down syndrome. Neurobiol. Dis., 82, 409–419.</Citation><ArticleIdList><ArticleId IdType=\"pubmed\">26244989</ArticleId></ArticleIdList></Reference><Reference><Citation>Boggio E.M., Pancrazi L., Gennaro M., Lo Rizzo C., Mari F., Meloni I., Ariani F., Panighini A., Novelli E., Biagioni M.. et al. (2016) Visual impairment in FOXG1-mutated individuals and mice. Neuroscience, 324, 496–508.</Citation><ArticleIdList><ArticleId IdType=\"pubmed\">27001178</ArticleId></ArticleIdList></Reference><Reference><Citation>de Freitas Dotto P., Cavascan N.N., Berezovsky A., Sacai P.Y., Rocha D.M., Pereira J.M., Salomão S.R. (2014) Sweep visually evoked potentials and visual findings in children with West syndrome. Eur. J. Paediatr. Neurol., 18, 201–210.</Citation><ArticleIdList><ArticleId IdType=\"pubmed\">24314760</ArticleId></ArticleIdList></Reference><Reference><Citation>Molinari F., Raas-Rothschild A., Rio M., Fiermonte G., Encha-Razavi F., Palmieri L., Palmieri F., Ben-Neriah Z., Kadhom N., Vekemans M.. et al. (2005) Impaired mitochondrial glutamate transport in autosomal recessive neonatal myoclonic epilepsy. Am. J. Hum. Genet., 76, 334–339.</Citation><ArticleIdList><ArticleId IdType=\"pmc\">PMC1196378</ArticleId><ArticleId IdType=\"pubmed\">15592994</ArticleId></ArticleIdList></Reference><Reference><Citation>Pizzo R., Gurgone A., Castroflorio E., Amendola E., Gross C., Sassoè-Pognetto M., Giustetto M. (2016) Lack of Cdkl5 disrupts the organization of excitatory and inhibitory synapses and parvalbumin interneurons in the primary visual cortex. Front. Cell. Neurosci., 10, 261..</Citation><ArticleIdList><ArticleId IdType=\"pmc\">PMC5124713</ArticleId><ArticleId IdType=\"pubmed\">27965538</ArticleId></ArticleIdList></Reference><Reference><Citation>Mattapallil M.J., Wawrousek E.F., Chan C.-C., Zhao H., Roychoudhury J., Ferguson T.A., Caspi R.R. (2012) The Rd8 mutation of the Crb1 gene is present in vendor lines of C57BL/6N mice and embryonic stem cells, and confounds ocular induced mutant phenotypes. Invest. Ophthalmol. Vis. Sci., 53, 2921–2927.</Citation><ArticleIdList><ArticleId IdType=\"pmc\">PMC3376073</ArticleId><ArticleId IdType=\"pubmed\">22447858</ArticleId></ArticleIdList></Reference><Reference><Citation>Harrison T.C., Sigler A., Murphy T.H. (2009) Simple and cost-effective hardware and software for functional brain mapping using intrinsic optical signal imaging. J. Neurosci. Methods, 182, 211–218.</Citation><ArticleIdList><ArticleId IdType=\"pubmed\">19559049</ArticleId></ArticleIdList></Reference><Reference><Citation>Cang J., Kalatsky V.A., Löwel S., Stryker M.P. (2005) Optical imaging of the intrinsic signal as a measure of cortical plasticity in the mouse. Vis. Neurosci., 22, 685–691.</Citation><ArticleIdList><ArticleId IdType=\"pmc\">PMC2553096</ArticleId><ArticleId IdType=\"pubmed\">16332279</ArticleId></ArticleIdList></Reference><Reference><Citation>Heimel J.A., Alexander Heimel J., Hartman R.J., Hermans J.M., Levelt C.N. (2007) Screening mouse vision with intrinsic signal optical imaging. Eur. J. Neurosci., 25, 795–804.</Citation><ArticleIdList><ArticleId IdType=\"pubmed\">17328775</ArticleId></ArticleIdList></Reference><Reference><Citation>Sarnaik R., Chen H., Liu X., Cang J. (2014) Genetic disruption of the On visual pathway affects cortical orientation selectivity and contrast sensitivity in mice. J. Neurophysiol., 111, 2276–2286.</Citation><ArticleIdList><ArticleId IdType=\"pmc\">PMC4099477</ArticleId><ArticleId IdType=\"pubmed\">24598523</ArticleId></ArticleIdList></Reference><Reference><Citation>Pereira F., Mitchell T., Botvinick M. (2009) Machine learning classifiers and fMRI: a tutorial overview. Neuroimage, 45, S199–S209.</Citation><ArticleIdList><ArticleId IdType=\"pmc\">PMC2892746</ArticleId><ArticleId IdType=\"pubmed\">19070668</ArticleId></ArticleIdList></Reference><Reference><Citation>Orrù G., Pettersson-Yeo W., Marquand A.F., Sartori G., Mechelli A. (2012) Using support vector machine to identify imaging biomarkers of neurological and psychiatric disease: a critical review. Neurosci. Biobehav. Rev., 36, 1140–1152.</Citation><ArticleIdList><ArticleId IdType=\"pubmed\">22305994</ArticleId></ArticleIdList></Reference><Reference><Citation>Cortes C., Vapnik V. (1995) Support-vector networks. Mach. Learn., 20, 273–297.</Citation></Reference><Reference><Citation>Stanislaw H., Todorov N. (1999) Calculation of signal detection theory measures. Behav. Res. Methods Instrum. Comput., 31, 137–149.</Citation><ArticleIdList><ArticleId IdType=\"pubmed\">10495845</ArticleId></ArticleIdList></Reference></ReferenceList></PubmedData></PubmedArticle></PubmedArticleSet>\n"
     ]
    },
    {
     "data": {
      "text/plain": [
       "('Searching for biomarkers of CDKL5 disorder: early-onset visual impairment in CDKL5 mutant mice.',\n",
       " 'CDKL5 disorder is a neurodevelopmental disorder still without a cure. Murine models of CDKL5 disorder have been recently generated raising the possibility of preclinical testing of treatments. However, unbiased, quantitative biomarkers of high translational value to monitor brain function are still missing. Moreover, the analysis of treatment is hindered by the challenge of repeatedly and non-invasively testing neuronal function. We analyzed the development of visual responses in a mouse model of CDKL5 disorder to introduce visually evoked responses as a quantitative method to assess cortical circuit function. Cortical visual responses were assessed in CDKL5 null male mice, heterozygous females, and their respective control wild-type littermates by repeated transcranial optical imaging from P27 until P32. No difference between wild-type and mutant mice was present at P25-P26 whereas defective responses appeared from P27-P28 both in heterozygous and homozygous CDKL5 mutant mice. These results were confirmed by visually evoked potentials (VEPs) recorded from the visual cortex of a different cohort. The previously imaged mice were also analyzed at P60-80 using VEPs, revealing a persistent reduction of response amplitude, reduced visual acuity and defective contrast function. The level of adult impairment was significantly correlated with the reduction in visual responses observed during development. Support vector machine showed that multi-dimensional visual assessment can be used to automatically classify mutant and wt mice with high reliability. Thus, monitoring visual responses represents a promising biomarker for preclinical and clinical studies on CDKL5 disorder.',\n",
       " ['Animals',\n",
       "  'Biomarkers',\n",
       "  'Disease Models, Animal',\n",
       "  'Epileptic Syndromes',\n",
       "  'Evoked Potentials, Visual',\n",
       "  'Mice',\n",
       "  'Mice, Knockout',\n",
       "  'Neurons',\n",
       "  'Protein Serine-Threonine Kinases',\n",
       "  'Reproducibility of Results',\n",
       "  'Rett Syndrome',\n",
       "  'Spasms, Infantile',\n",
       "  'Vision Disorders',\n",
       "  'Visual Acuity',\n",
       "  'Visual Cortex'])"
      ]
     },
     "execution_count": 43,
     "metadata": {},
     "output_type": "execute_result"
    }
   ],
   "source": [
    "\n",
    "# find the list of pmids that are unique to q1_ids\n",
    "q1_unique_ids = list(set(q1_ids) - set(q2_ids)) # ids in q1 not in q2 \n",
    "q2_unique_ids = list(set(q2_ids) - set(q1_ids)) # ids in q2 not in q1   \n",
    "\n",
    "# call the function on the first element of the list \n",
    "pubmed_fetch_tiab(q1_unique_ids[202], api_key, email)"
   ]
  },
  {
   "cell_type": "code",
   "execution_count": null,
   "metadata": {},
   "outputs": [],
   "source": [
    "\n",
    "\n",
    "#define a function that will randomly pick a PMID from a list until one is found that has a title and abstract\n",
    "def get_tiab_from_list(ids, api_key, email):\n",
    "    '''### YOUR CODE HERE ###'''\n",
    "\n",
    "# fetch the title and abstract for the random examples\n",
    "q1_title, q1_abstract, q1_mesh_terms = get_tiab_from_list(q1_unique_ids, api_key, email)\n",
    "q2_title, q2_abstract, q2_mesh_terms = get_tiab_from_list(q2_unique_ids, api_key, email)\n",
    "\n",
    "# print the results for q1\n",
    "# print the title ALLCAPS\n",
    "'''### YOUR CODE HERE ###'''\n",
    "# wrap the abstract at 80 characters\n",
    "'''### YOUR CODE HERE ###'''\n",
    "# print the mesh terms as a tab intended list one term per line\n",
    "'''### YOUR CODE HERE ###'''\n",
    "\n",
    "# print the results for q2 as well\n",
    "'''### YOUR CODE HERE ###'''"
   ]
  },
  {
   "cell_type": "code",
   "execution_count": null,
   "metadata": {},
   "outputs": [],
   "source": [
    "'''Now we want to try to learn something about Rett Syndrome from these papers.\n",
    "One obvious thing to do is to see look at the distrubution of MeSH terms associated with the papers'''"
   ]
  },
  {
   "cell_type": "code",
   "execution_count": null,
   "metadata": {},
   "outputs": [],
   "source": [
    "#define a function to retrieve all the MeSH terms for a list of PMIDs\n",
    "def pubmed_fetch_mesh_terms(pmids, api_key, email):\n",
    "    \n",
    "    # define the parameters for the eFetch request\n",
    "    efetch_params = {\n",
    "        'db': 'pubmed',\n",
    "        'id': ','.join(pmids),\n",
    "        'retmode': 'xml',\n",
    "        'api_key': api_key,\n",
    "        'email': email\n",
    "    }\n",
    "\n",
    "    # encode the parameters so they can be passed to the API\n",
    "    encoded_data = urllib.parse.urlencode(efetch_params).encode('utf-8')\n",
    "\n",
    "    # the base request url for eFetch\n",
    "    url = f\"https://eutils.ncbi.nlm.nih.gov/entrez/eutils/efetch.fcgi\"\n",
    "\n",
    "    # make the request\n",
    "    request = urllib.request.Request(url, data=encoded_data)\n",
    "    response = urllib.request.urlopen(request)\n",
    "\n",
    "    # read into an XML object\n",
    "    efetch_data_XML = ET.fromstring(response.read())\n",
    "\n",
    "    # extract the MeSH terms\n",
    "    mesh_terms = []\n",
    "    for article in efetch_data_XML.findall('PubmedArticle'):\n",
    "        try:\n",
    "            mesh_terms.extend([mesh.text for mesh in article.findall('MedlineCitation/MeshHeadingList/MeshHeading/DescriptorName')])\n",
    "        except:\n",
    "            pass\n",
    "\n",
    "    # create a dictionary of the MeSH terms and their counts\n",
    "    '''### YOUR CODE HERE ###'''\n",
    "    \n",
    "    return mesh_terms_dict"
   ]
  },
  {
   "cell_type": "code",
   "execution_count": null,
   "metadata": {},
   "outputs": [],
   "source": [
    "#extract the MeSH term data for all the \"Rett Syndrome[MH]\" papers\n",
    "pmids = q1_ids # this we derived right at the top of the notebook\n",
    "\n",
    "mesh_dict = pubmed_fetch_mesh_terms(pmids, api_key, email)\n",
    "\n",
    "# sort the dictionary by the counts\n",
    "sorted_mesh_dict = '''### YOUR CODE HERE ###'''\n",
    "\n",
    "# plot the top 10 MeSH terms\n",
    "plt.barh(list(sorted_mesh_dict.keys())[:10], list(sorted_mesh_dict.values())[:10]);\n",
    "\n",
    "'''What can we immediately learn from this data?'''"
   ]
  },
  {
   "cell_type": "code",
   "execution_count": 144,
   "metadata": {},
   "outputs": [],
   "source": [
    "'''lets use eLink to find any OMIM records that refer to these papers.\n",
    "Remember OMIM - Online Mendelian Inheritance in Man - is a curated database of human genes and genetic disorders'''\n",
    "\n",
    "def get_pubmed_omim(pmids):\n",
    "\n",
    "    # NB you can see all the links (an astonishing number)\n",
    "    # https://eutils.ncbi.nlm.nih.gov/entrez/query/static/entrezlinks.html#pubmed\n",
    "    # we are going to use the pubmed_omim_calculated link as this finds OMIM records that cite our papers\n",
    "\n",
    "    # convert the list of pmids to a string where each pmid is preceded by 'id=' and separated by an &\n",
    "    pmid_string = '&id='.join(pmids)\n",
    "    \n",
    "    # Define the parameters for the eSearch request\n",
    "    # Notice how we don't have to specify the dbfrom and db elements if we use the linkname\n",
    "    elink_params = {\n",
    "        'linkname': 'pubmed_omim_calculated',\n",
    "        'api_key': api_key,\n",
    "        'email': email,\n",
    "    }\n",
    "    # encode the parameters so they can be passed to the API\n",
    "    encoded_data = urllib.parse.urlencode(elink_params).encode('utf-8')\n",
    "    encoded_data = encoded_data + pmid_string.encode('utf-8')\n",
    "\n",
    "    # the base request url for eSearch\n",
    "    url = f\"https://eutils.ncbi.nlm.nih.gov/entrez/eutils/elink.fcgi\"\n",
    "\n",
    "    # make the request\n",
    "    request = urllib.request.Request(url, data=encoded_data)\n",
    "    response = urllib.request.urlopen(request)\n",
    "    \n",
    "    # read into an XML object\n",
    "    elink_data_XML = ET.fromstring(response.read())\n",
    "\n",
    "    # list to store the pubmed_ids of the cited papers\n",
    "    omim_records = []\n",
    "\n",
    "    # extract the gene ids from the links\n",
    "    for link in elink_data_XML.findall('LinkSet/LinkSetDb/Link/Id'):\n",
    "        omim_records.append(link.text)\n",
    "\n",
    "    return omim_records"
   ]
  },
  {
   "cell_type": "code",
   "execution_count": null,
   "metadata": {},
   "outputs": [],
   "source": [
    "# create a list of OMIM entries linked to the papers\n",
    "omim_records = get_pubmed_omim(pmids)\n",
    "\n",
    "# find the unique gene ids from the list\n",
    "unique_omim_records = list(set(omim_records))\n",
    "\n",
    "# print the number of unique records\n",
    "print(f'There are',len(unique_omim_records),'unique OMIM records linked to the papers')"
   ]
  },
  {
   "cell_type": "code",
   "execution_count": 162,
   "metadata": {},
   "outputs": [],
   "source": [
    "# use eSummary to retrieve the titles of the OMIM records\n",
    "def get_omim_titles(omim_records):\n",
    "\n",
    "    # convert the list of omim records to a string where each omim record is followed by a [MIM] in an 'OR' separated string\n",
    "    omim_string = '''### YOUR CODE HERE ###'''\n",
    "    \n",
    "    # Define the parameters for the eSearch request\n",
    "    esearch_params = {\n",
    "        'db': 'omim',\n",
    "        'term': omim_string,\n",
    "        'api_key': api_key,\n",
    "        'email': email,\n",
    "        'usehistory': 'y'\n",
    "    }\n",
    "\n",
    "    # encode the parameters so they can be passed to the API\n",
    "    encoded_data = urllib.parse.urlencode(esearch_params).encode('utf-8')\n",
    "\n",
    "    # the base request url for eSearch\n",
    "    url = f\"https://eutils.ncbi.nlm.nih.gov/entrez/eutils/esearch.fcgi\"\n",
    "\n",
    "    # make the request\n",
    "    request = urllib.request.Request(url, data=encoded_data)\n",
    "    response = urllib.request.urlopen(request)\n",
    "\n",
    "    # read into an XML object\n",
    "    esearch_data_XML = ET.fromstring(response.read())\n",
    "\n",
    "    # extract the WebEnv and QueryKey\n",
    "    webenv = esearch_data_XML.find('WebEnv').text\n",
    "    query_key = esearch_data_XML.find('QueryKey').text\n",
    "\n",
    "    # define the parameters for the eSummary request\n",
    "    esummary_params = {\n",
    "        'db': 'pubmed',\n",
    "        'query_key': query_key,\n",
    "        'WebEnv': webenv,\n",
    "        'api_key': api_key,\n",
    "        'email': email\n",
    "    }\n",
    "\n",
    "    # encode the parameters so they can be passed to the API\n",
    "    encoded_data = urllib.parse.urlencode(esummary_params).encode('utf-8')\n",
    "\n",
    "    # the base request url for eSearch\n",
    "    url = f\"https://eutils.ncbi.nlm.nih.gov/entrez/eutils/esummary.fcgi\"\n",
    "\n",
    "    # make the request\n",
    "    request = urllib.request.Request(url, data=encoded_data)\n",
    "    response = urllib.request.urlopen(request)\n",
    "\n",
    "    # read into an XML object\n",
    "    esummary_data_XML = ET.fromstring(response.read())\n",
    "\n",
    "    # extract the titles of the OMIM records\n",
    "    omim_titles = {}\n",
    "\n",
    "    for record in esummary_data_XML.findall('DocSum'):\n",
    "        try:\n",
    "            omim_id = record.find('Id').text\n",
    "            omim_title = record.find('Item[@Name=\"Title\"]').text\n",
    "            omim_titles[omim_id] = omim_title\n",
    "        except:\n",
    "            pass\n",
    "\n",
    "    return omim_titles"
   ]
  },
  {
   "cell_type": "code",
   "execution_count": null,
   "metadata": {},
   "outputs": [],
   "source": [
    "# get the titles of the OMIM records\n",
    "omim_titles = get_omim_titles(unique_omim_records)\n",
    "\n",
    "# convert this into a dataframe where the index is the OMIM ID and the column is the title\n",
    "'''### YOUR CODE HERE ###'''"
   ]
  },
  {
   "cell_type": "code",
   "execution_count": null,
   "metadata": {},
   "outputs": [],
   "source": [
    "# count the number of times each OMIM record is cited from the omim_records list\n",
    "omim_records_dict = {}\n",
    "\n",
    "for record in omim_records:\n",
    "    '''### YOUR CODE HERE ###'''\n",
    "\n",
    "# sort the dictionary by the counts\n",
    "sorted_omim_records_dict = '''### YOUR CODE HERE ###'''\n",
    "\n",
    "#convert the dictionary to a dataframe\n",
    "df_omim = pd.DataFrame.from_dict(sorted_omim_records_dict, orient='index', columns=['Count'])\n",
    "\n",
    "# merge the dataframe with the omim_names dataframe\n",
    "combined = '''### YOUR CODE HERE ###'''\n",
    "\n",
    "#remove the index column\n",
    "combined.reset_index(inplace=True)\n",
    "\n",
    "#rename the columns\n",
    "combined.columns = ['OMIM ID', 'Count', 'Title']\n",
    "\n",
    "# print the dataframe\n",
    "combined.head()"
   ]
  },
  {
   "cell_type": "code",
   "execution_count": null,
   "metadata": {},
   "outputs": [],
   "source": [
    "# plot the top 10 OMIM records\n",
    "'''### YOUR CODE HERE ###'''"
   ]
  },
  {
   "cell_type": "code",
   "execution_count": null,
   "metadata": {},
   "outputs": [],
   "source": [
    "'''Well Done!'''"
   ]
  }
 ],
 "metadata": {
  "kernelspec": {
   "display_name": "pbi_environment",
   "language": "python",
   "name": "python3"
  },
  "language_info": {
   "codemirror_mode": {
    "name": "ipython",
    "version": 3
   },
   "file_extension": ".py",
   "mimetype": "text/x-python",
   "name": "python",
   "nbconvert_exporter": "python",
   "pygments_lexer": "ipython3",
   "version": "3.12.6"
  }
 },
 "nbformat": 4,
 "nbformat_minor": 2
}
