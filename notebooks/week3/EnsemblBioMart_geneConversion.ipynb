{
 "cells": [
  {
   "cell_type": "code",
   "execution_count": 2,
   "metadata": {},
   "outputs": [
    {
     "name": "stdout",
     "output_type": "stream",
     "text": [
      "Gene Symbol: APOE, NCBI Gene ID: 348\n",
      "Gene Symbol: BRCA1, NCBI Gene ID: 672\n",
      "Gene Symbol: EGFR, NCBI Gene ID: 1956\n",
      "Gene Symbol: ESR1, NCBI Gene ID: 2099\n",
      "Gene Symbol: FTO, NCBI Gene ID: 79068\n",
      "Gene Symbol: IL6, NCBI Gene ID: 3569\n",
      "Gene Symbol: MTHFR, NCBI Gene ID: 4524\n",
      "Gene Symbol: TNF, NCBI Gene ID: 7124\n",
      "Gene Symbol: TP53, NCBI Gene ID: 7157\n",
      "Gene Symbol: VEGFA, NCBI Gene ID: 7422\n"
     ]
    }
   ],
   "source": [
    "# Using Ensembl BioMart to convert gene symbols to NCBI Gene IDs with XML queries\n",
    "\n",
    "import requests\n",
    "\n",
    "def get_ncbi_gene_ids(gene_symbols, organism=\"hsapiens\"):\n",
    "    \"\"\"\n",
    "    Convert a list of gene symbols into NCBI Gene IDs using Ensembl BioMart.\n",
    "\n",
    "    Parameters:\n",
    "    gene_symbols (list): List of gene symbols to search for.\n",
    "    organism (str): Organism prefix used by Ensembl BioMart (default is \"hsapiens\" for Homo sapiens).\n",
    "\n",
    "    Returns:\n",
    "    dict: A dictionary mapping gene symbols to NCBI Gene IDs.\n",
    "    \"\"\"\n",
    "    # Prepare the XML query for BioMart\n",
    "    query_xml = f\"\"\"<?xml version=\"1.0\" encoding=\"UTF-8\"?>\n",
    "    <!DOCTYPE Query>\n",
    "    <Query virtualSchemaName = \"default\" formatter = \"TSV\" header = \"0\" uniqueRows = \"1\" count = \"\">\n",
    "        <Dataset name = \"{organism}_gene_ensembl\" interface = \"default\" >\n",
    "            <Filter name = \"hgnc_symbol\" value = \"{','.join(gene_symbols)}\"/>\n",
    "            <Attribute name = \"hgnc_symbol\" />\n",
    "            <Attribute name = \"entrezgene_id\" />\n",
    "        </Dataset>\n",
    "    </Query>\n",
    "    \"\"\"\n",
    "\n",
    "    # Send the request to Ensembl BioMart\n",
    "    url = \"https://www.ensembl.org/biomart/martservice\"\n",
    "    response = requests.post(url, data={\"query\": query_xml})\n",
    "\n",
    "    # Parse the response\n",
    "    gene_ids = {}\n",
    "    if response.status_code == 200:\n",
    "        for line in response.text.strip().split(\"\\n\"):\n",
    "            symbol, gene_id = line.split(\"\\t\")\n",
    "            gene_ids[symbol] = gene_id if gene_id != \"\" else None\n",
    "    else:\n",
    "        raise Exception(f\"Error querying BioMart: {response.status_code}\")\n",
    "\n",
    "    return gene_ids\n",
    "\n",
    "# Example usage\n",
    "gene_symbols = [\"BRCA1\", \"TP53\", \"EGFR\", \"APOE\", \"TNF\", \"ESR1\", \"IL6\", \"VEGFA\", \"MTHFR\", \"FTO\"]\n",
    "gene_ids = get_ncbi_gene_ids(gene_symbols)\n",
    "\n",
    "# Print the gene symbol to NCBI Gene ID mapping\n",
    "for symbol, gene_id in gene_ids.items():\n",
    "    print(f\"Gene Symbol: {symbol}, NCBI Gene ID: {gene_id}\")"
   ]
  }
 ],
 "metadata": {
  "kernelspec": {
   "display_name": "pbi_environment",
   "language": "python",
   "name": "python3"
  },
  "language_info": {
   "codemirror_mode": {
    "name": "ipython",
    "version": 3
   },
   "file_extension": ".py",
   "mimetype": "text/x-python",
   "name": "python",
   "nbconvert_exporter": "python",
   "pygments_lexer": "ipython3",
   "version": "3.12.6"
  }
 },
 "nbformat": 4,
 "nbformat_minor": 2
}
