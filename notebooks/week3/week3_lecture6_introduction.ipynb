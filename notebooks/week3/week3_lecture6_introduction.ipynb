{
 "cells": [
  {
   "cell_type": "markdown",
   "metadata": {},
   "source": [
    "### Programming for Biomedical Informatics\n",
    "#### Week 3 - Numpy Quick Tour\n",
    "\n",
    "Here we run quickly through some key functionality for Numpy. It is a hugely rich library which has excellent documentation. Please go here for the official documentation - https://numpy.org"
   ]
  },
  {
   "cell_type": "code",
   "execution_count": 1,
   "metadata": {},
   "outputs": [],
   "source": [
    "import numpy as np"
   ]
  },
  {
   "cell_type": "code",
   "execution_count": 7,
   "metadata": {},
   "outputs": [
    {
     "name": "stdout",
     "output_type": "stream",
     "text": [
      "[1 2 3 4]\n",
      "\n",
      "[[1 2]\n",
      " [3 4]]\n",
      "\n",
      "[[[1 2]\n",
      "  [3 4]]\n",
      "\n",
      " [[5 6]\n",
      "  [7 8]]]\n",
      "\n",
      "[[0. 0. 0.]\n",
      " [0. 0. 0.]\n",
      " [0. 0. 0.]]\n",
      "\n",
      "[[1. 1. 1. 1.]\n",
      " [1. 1. 1. 1.]]\n",
      "\n",
      "[0 2 4 6 8]\n",
      "\n",
      "[0.   0.25 0.5  0.75 1.  ]\n",
      "\n"
     ]
    }
   ],
   "source": [
    "##Creating Arrays\n",
    "\n",
    "# 1D array\n",
    "a = np.array([1, 2, 3, 4])\n",
    "print(a)\n",
    "print(\"\")\n",
    "\n",
    "# 2D array\n",
    "b = np.array([[1, 2], [3, 4]])\n",
    "print(b)\n",
    "print(\"\")\n",
    "\n",
    "# 3D array\n",
    "c = np.array([[[1, 2], [3, 4]], [[5, 6], [7, 8]]])\n",
    "print(c)\n",
    "print(\"\")\n",
    "\n",
    "# Create an array of zeros\n",
    "zeros = np.zeros((3, 3))\n",
    "print(zeros)\n",
    "print(\"\")\n",
    "\n",
    "# Create an array of ones\n",
    "ones = np.ones((2, 4))\n",
    "print(ones)\n",
    "print(\"\")\n",
    "\n",
    "# Create an array with a range of values\n",
    "arange = np.arange(0, 10, 2)  # [0, 2, 4, 6, 8]\n",
    "print(arange)\n",
    "print(\"\")\n",
    "\n",
    "# Create a linearly spaced array\n",
    "linspace = np.linspace(0, 1, 5)  # [0, 0.25, 0.5, 0.75, 1]\n",
    "print(linspace)\n",
    "print(\"\")"
   ]
  },
  {
   "cell_type": "code",
   "execution_count": 8,
   "metadata": {},
   "outputs": [
    {
     "name": "stdout",
     "output_type": "stream",
     "text": [
      "(4,)\n",
      "(2, 2)\n",
      "4\n",
      "int32\n"
     ]
    }
   ],
   "source": [
    "## Array Properties\n",
    "print(a.shape)    # (4,)\n",
    "print(b.shape)    # (2, 2)\n",
    "print(b.size)     # 4\n",
    "print(b.dtype)    # int32 (or equivalent based on the system)"
   ]
  },
  {
   "cell_type": "code",
   "execution_count": 9,
   "metadata": {},
   "outputs": [
    {
     "name": "stdout",
     "output_type": "stream",
     "text": [
      "2\n",
      "4\n",
      "[2 3]\n",
      "[2 4]\n"
     ]
    }
   ],
   "source": [
    "## Indexing and Slicing\n",
    "\n",
    "# 1D array indexing\n",
    "print(a[1])  # 2\n",
    "\n",
    "# 2D array indexing\n",
    "print(b[1, 1])  # 4\n",
    "\n",
    "# 1D array slicing\n",
    "print(a[1:3])  # [2, 3] since a begins with 0 \n",
    "\n",
    "# 2D array slicing\n",
    "print(b[:, 1])  # [2, 4] (second column)"
   ]
  },
  {
   "cell_type": "code",
   "execution_count": 10,
   "metadata": {},
   "outputs": [
    {
     "name": "stdout",
     "output_type": "stream",
     "text": [
      "[1 2 3 4]\n",
      "[[1 2]\n",
      " [3 4]]\n",
      "[1 2 3 4]\n"
     ]
    }
   ],
   "source": [
    "## Reshaping Arrays\n",
    "\n",
    "print(a)\n",
    "\n",
    "# Reshape a 1D array to a 2D array\n",
    "reshaped = a.reshape((2, 2))\n",
    "print(reshaped)\n",
    "\n",
    "# Flatten a 2D array to a 1D array\n",
    "flattened = b.flatten()\n",
    "print(flattened)"
   ]
  },
  {
   "cell_type": "code",
   "execution_count": 11,
   "metadata": {},
   "outputs": [
    {
     "name": "stdout",
     "output_type": "stream",
     "text": [
      "[5 7 9]\n",
      "[-3 -3 -3]\n",
      "[ 4 10 18]\n",
      "[0.25 0.4  0.5 ]\n",
      "[1 2 3]\n",
      "[2 4 6]\n"
     ]
    }
   ],
   "source": [
    "## Basic Operations\n",
    "\n",
    "# Element-wise addition, subtraction, multiplication, division\n",
    "x = np.array([1, 2, 3])\n",
    "y = np.array([4, 5, 6])\n",
    "\n",
    "print(x + y)  # [5, 7, 9]\n",
    "print(x - y)  # [-3, -3, -3]\n",
    "print(x * y)  # [4, 10, 18]\n",
    "print(x / y)  # [0.25, 0.4, 0.5]\n",
    "\n",
    "# Broadcasting\n",
    "z = 2\n",
    "print(x)\n",
    "print(x * z)  # [2, 4, 6]"
   ]
  },
  {
   "cell_type": "code",
   "execution_count": 12,
   "metadata": {},
   "outputs": [
    {
     "name": "stdout",
     "output_type": "stream",
     "text": [
      "[1.         1.41421356 1.73205081]\n",
      "[ 2.71828183  7.3890561  20.08553692]\n",
      "[0.84147098 0.90929743 0.14112001]\n",
      "[1 2 3] [4 5 6]\n",
      "32\n"
     ]
    }
   ],
   "source": [
    "## Mathematical Functions\n",
    "\n",
    "# Square root\n",
    "sqrt_x = np.sqrt(x)\n",
    "print(sqrt_x)\n",
    "\n",
    "# Exponential\n",
    "exp_x = np.exp(x)\n",
    "print(exp_x)\n",
    "\n",
    "# Sine function\n",
    "sin_x = np.sin(x)\n",
    "print(sin_x)\n",
    "\n",
    "# Dot product\n",
    "print(x,y)\n",
    "dot_product = np.dot(x, y)  # 1*4 + 2*5 + 3*6 = 32\n",
    "print(dot_product)"
   ]
  },
  {
   "cell_type": "code",
   "execution_count": 13,
   "metadata": {},
   "outputs": [
    {
     "name": "stdout",
     "output_type": "stream",
     "text": [
      "6\n",
      "2.0\n",
      "3\n",
      "1\n",
      "0.816496580927726\n"
     ]
    }
   ],
   "source": [
    "## Aggregate Functions\n",
    "\n",
    "# Sum\n",
    "print(np.sum(x))  # 6\n",
    "\n",
    "# Mean\n",
    "print(np.mean(x))  # 2.0\n",
    "\n",
    "# Maximum and minimum\n",
    "print(np.max(x))  # 3\n",
    "print(np.min(x))  # 1\n",
    "\n",
    "# Standard deviation\n",
    "print(np.std(x))  # 0.816..."
   ]
  },
  {
   "cell_type": "code",
   "execution_count": 14,
   "metadata": {},
   "outputs": [
    {
     "name": "stdout",
     "output_type": "stream",
     "text": [
      "True\n",
      "True\n"
     ]
    }
   ],
   "source": [
    "## Logical Operations\n",
    "\n",
    "# Boolean array based on condition\n",
    "cond = x > 1  # [False, True, True]\n",
    "\n",
    "# Select elements using condition\n",
    "selected = x[x > 1]  # [2, 3]\n",
    "\n",
    "# Check if any or all elements satisfy a condition\n",
    "print(np.any(x > 2))  # True\n",
    "print(np.all(x > 0))  # True"
   ]
  },
  {
   "cell_type": "code",
   "execution_count": 15,
   "metadata": {},
   "outputs": [
    {
     "name": "stdout",
     "output_type": "stream",
     "text": [
      "[0.25092362 0.04609582 0.67681624 0.04346949 0.1164237 ]\n"
     ]
    }
   ],
   "source": [
    "## Random Number Generation\n",
    "\n",
    "# Generate random numbers from a uniform distribution\n",
    "rand_array = np.random.rand(3, 3)\n",
    "\n",
    "# Generate random integers\n",
    "rand_ints = np.random.randint(0, 10, (2, 2))\n",
    "\n",
    "# Set a random seed for reproducibility\n",
    "np.random.seed(41)\n",
    "random_sample = np.random.rand(5)\n",
    "print(random_sample)"
   ]
  },
  {
   "cell_type": "code",
   "execution_count": 16,
   "metadata": {},
   "outputs": [
    {
     "name": "stdout",
     "output_type": "stream",
     "text": [
      "[[1 2 3]\n",
      " [4 5 6]]\n",
      "[1 2 3 4 5 6]\n",
      "[1 2 3 4 5 6]\n"
     ]
    }
   ],
   "source": [
    "## Stacking and Concatenation\n",
    "\n",
    "# Vertical stacking\n",
    "stacked_v = np.vstack((x, y))  # [[1, 2, 3], [4, 5, 6]]\n",
    "print(stacked_v)\n",
    "\n",
    "# Horizontal stacking\n",
    "stacked_h = np.hstack((x, y))  # [1, 2, 3, 4, 5, 6]\n",
    "print(stacked_h)\n",
    "\n",
    "# Concatenate arrays along a specified axis\n",
    "concat = np.concatenate((x, y), axis=0)  # [1, 2, 3, 4, 5, 6]\n",
    "print(concat)"
   ]
  },
  {
   "cell_type": "code",
   "execution_count": 17,
   "metadata": {},
   "outputs": [
    {
     "name": "stdout",
     "output_type": "stream",
     "text": [
      "[[1 2]\n",
      " [3 4]]\n",
      "\n",
      "[[5 6]\n",
      " [7 8]]\n",
      "\n",
      "[[19 22]\n",
      " [43 50]]\n",
      "\n",
      "[[-2.   1. ]\n",
      " [ 1.5 -0.5]]\n",
      "[-0.37228132  5.37228132]\n"
     ]
    }
   ],
   "source": [
    "## Linear Algebra\n",
    "\n",
    "# Matrix multiplication\n",
    "A = np.array([[1, 2], [3, 4]])\n",
    "B = np.array([[5, 6], [7, 8]])\n",
    "\n",
    "result = np.matmul(A, B)  # [[19, 22], [43, 50]]\n",
    "print(A)\n",
    "print(\"\")\n",
    "print(B)\n",
    "print(\"\")\n",
    "print(result)\n",
    "print(\"\")\n",
    "\n",
    "# Inverse of a matrix\n",
    "inv_A = np.linalg.inv(A)\n",
    "print(inv_A)\n",
    "\n",
    "# Eigenvalues and eigenvectors\n",
    "eigenvalues, eigenvectors = np.linalg.eig(A)\n",
    "print(eigenvalues)"
   ]
  },
  {
   "cell_type": "code",
   "execution_count": 18,
   "metadata": {},
   "outputs": [
    {
     "name": "stdout",
     "output_type": "stream",
     "text": [
      "[1 2 3]\n",
      "[1 3]\n",
      "[2 3]\n"
     ]
    }
   ],
   "source": [
    "## Advanced Indexing\n",
    "\n",
    "# Fancy indexing\n",
    "print(x)\n",
    "indices = [0, 2]\n",
    "print(x[indices])  # [1, 3]\n",
    "\n",
    "# Boolean indexing\n",
    "mask = x > 1\n",
    "print(x[mask])  # [2, 3]"
   ]
  },
  {
   "cell_type": "code",
   "execution_count": 19,
   "metadata": {},
   "outputs": [],
   "source": [
    "## Save and Load Arrays\n",
    "\n",
    "# Save an array to a file\n",
    "np.save('my_array.npy', x)\n",
    "\n",
    "# Load an array from a file\n",
    "loaded_array = np.load('my_array.npy')"
   ]
  },
  {
   "cell_type": "code",
   "execution_count": null,
   "metadata": {},
   "outputs": [],
   "source": []
  },
  {
   "cell_type": "code",
   "execution_count": null,
   "metadata": {},
   "outputs": [],
   "source": []
  },
  {
   "cell_type": "code",
   "execution_count": null,
   "metadata": {},
   "outputs": [],
   "source": []
  }
 ],
 "metadata": {
  "kernelspec": {
   "display_name": "bio1dev",
   "language": "python",
   "name": "python3"
  },
  "language_info": {
   "codemirror_mode": {
    "name": "ipython",
    "version": 3
   },
   "file_extension": ".py",
   "mimetype": "text/x-python",
   "name": "python",
   "nbconvert_exporter": "python",
   "pygments_lexer": "ipython3",
   "version": "3.12.6"
  }
 },
 "nbformat": 4,
 "nbformat_minor": 2
}
