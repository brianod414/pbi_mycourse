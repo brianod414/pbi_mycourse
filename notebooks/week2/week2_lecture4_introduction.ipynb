{
 "cells": [
  {
   "cell_type": "markdown",
   "metadata": {},
   "source": [
    "### Programming for Biomedical Informatics\n",
    "#### Week 2 - Pandas Quick Tour\n",
    "\n",
    "Here we run quickly through some key functionality for Pandas. It is a hugely rich library which has excellent documentation. Please go here for the official documentation - https://pandas.pydata.org/docs/user_guide/index.html"
   ]
  },
  {
   "cell_type": "code",
   "execution_count": 3,
   "metadata": {},
   "outputs": [
    {
     "data": {
      "text/html": [
       "<div>\n",
       "<style scoped>\n",
       "    .dataframe tbody tr th:only-of-type {\n",
       "        vertical-align: middle;\n",
       "    }\n",
       "\n",
       "    .dataframe tbody tr th {\n",
       "        vertical-align: top;\n",
       "    }\n",
       "\n",
       "    .dataframe thead th {\n",
       "        text-align: right;\n",
       "    }\n",
       "</style>\n",
       "<table border=\"1\" class=\"dataframe\">\n",
       "  <thead>\n",
       "    <tr style=\"text-align: right;\">\n",
       "      <th></th>\n",
       "      <th>Name</th>\n",
       "      <th>Age</th>\n",
       "      <th>Country</th>\n",
       "    </tr>\n",
       "  </thead>\n",
       "  <tbody>\n",
       "    <tr>\n",
       "      <th>0</th>\n",
       "      <td>John</td>\n",
       "      <td>28</td>\n",
       "      <td>USA</td>\n",
       "    </tr>\n",
       "    <tr>\n",
       "      <th>1</th>\n",
       "      <td>Anna</td>\n",
       "      <td>22</td>\n",
       "      <td>Germany</td>\n",
       "    </tr>\n",
       "    <tr>\n",
       "      <th>2</th>\n",
       "      <td>Xiu</td>\n",
       "      <td>34</td>\n",
       "      <td>China</td>\n",
       "    </tr>\n",
       "    <tr>\n",
       "      <th>3</th>\n",
       "      <td>Wang</td>\n",
       "      <td>29</td>\n",
       "      <td>China</td>\n",
       "    </tr>\n",
       "  </tbody>\n",
       "</table>\n",
       "</div>"
      ],
      "text/plain": [
       "   Name  Age  Country\n",
       "0  John   28      USA\n",
       "1  Anna   22  Germany\n",
       "2   Xiu   34    China\n",
       "3  Wang   29    China"
      ]
     },
     "execution_count": 3,
     "metadata": {},
     "output_type": "execute_result"
    }
   ],
   "source": [
    "### Creating DataFrames\n",
    "\n",
    "import pandas as pd\n",
    "\n",
    "# Create a DataFrame from a dictionary\n",
    "data = {'Name': ['John', 'Anna', 'Xiu', 'Wang'],\n",
    "        'Age': [28, 22, 34, 29],\n",
    "        'Country': ['USA', 'Germany', 'China', 'China']}\n",
    "df = pd.DataFrame(data)\n",
    "\n",
    "df.head()"
   ]
  },
  {
   "cell_type": "code",
   "execution_count": 4,
   "metadata": {},
   "outputs": [
    {
     "ename": "FileNotFoundError",
     "evalue": "[Errno 2] No such file or directory: 'data.csv'",
     "output_type": "error",
     "traceback": [
      "\u001b[1;31m---------------------------------------------------------------------------\u001b[0m",
      "\u001b[1;31mFileNotFoundError\u001b[0m                         Traceback (most recent call last)",
      "Cell \u001b[1;32mIn[4], line 7\u001b[0m\n\u001b[0;32m      1\u001b[0m \u001b[38;5;66;03m### Reading Data from Files\u001b[39;00m\n\u001b[0;32m      2\u001b[0m \n\u001b[0;32m      3\u001b[0m \u001b[38;5;66;03m#NB pandas has functions to read data from various file formats like CSV, Excel, SQL, HTML, JSON, etc.\u001b[39;00m\n\u001b[0;32m      4\u001b[0m \u001b[38;5;66;03m#NB I haven't attched files here!\u001b[39;00m\n\u001b[0;32m      5\u001b[0m \n\u001b[0;32m      6\u001b[0m \u001b[38;5;66;03m# Read a CSV file\u001b[39;00m\n\u001b[1;32m----> 7\u001b[0m df \u001b[38;5;241m=\u001b[39m \u001b[43mpd\u001b[49m\u001b[38;5;241;43m.\u001b[39;49m\u001b[43mread_csv\u001b[49m\u001b[43m(\u001b[49m\u001b[38;5;124;43m'\u001b[39;49m\u001b[38;5;124;43mdata.csv\u001b[39;49m\u001b[38;5;124;43m'\u001b[39;49m\u001b[43m)\u001b[49m\n\u001b[0;32m      9\u001b[0m \u001b[38;5;66;03m# Read an Excel file\u001b[39;00m\n\u001b[0;32m     10\u001b[0m df \u001b[38;5;241m=\u001b[39m pd\u001b[38;5;241m.\u001b[39mread_excel(\u001b[38;5;124m'\u001b[39m\u001b[38;5;124mdata.xlsx\u001b[39m\u001b[38;5;124m'\u001b[39m)\n",
      "File \u001b[1;32mc:\\Users\\s2712192\\AppData\\Local\\miniconda3\\envs\\pbi_environment\\Lib\\site-packages\\pandas\\io\\parsers\\readers.py:1026\u001b[0m, in \u001b[0;36mread_csv\u001b[1;34m(filepath_or_buffer, sep, delimiter, header, names, index_col, usecols, dtype, engine, converters, true_values, false_values, skipinitialspace, skiprows, skipfooter, nrows, na_values, keep_default_na, na_filter, verbose, skip_blank_lines, parse_dates, infer_datetime_format, keep_date_col, date_parser, date_format, dayfirst, cache_dates, iterator, chunksize, compression, thousands, decimal, lineterminator, quotechar, quoting, doublequote, escapechar, comment, encoding, encoding_errors, dialect, on_bad_lines, delim_whitespace, low_memory, memory_map, float_precision, storage_options, dtype_backend)\u001b[0m\n\u001b[0;32m   1013\u001b[0m kwds_defaults \u001b[38;5;241m=\u001b[39m _refine_defaults_read(\n\u001b[0;32m   1014\u001b[0m     dialect,\n\u001b[0;32m   1015\u001b[0m     delimiter,\n\u001b[1;32m   (...)\u001b[0m\n\u001b[0;32m   1022\u001b[0m     dtype_backend\u001b[38;5;241m=\u001b[39mdtype_backend,\n\u001b[0;32m   1023\u001b[0m )\n\u001b[0;32m   1024\u001b[0m kwds\u001b[38;5;241m.\u001b[39mupdate(kwds_defaults)\n\u001b[1;32m-> 1026\u001b[0m \u001b[38;5;28;01mreturn\u001b[39;00m \u001b[43m_read\u001b[49m\u001b[43m(\u001b[49m\u001b[43mfilepath_or_buffer\u001b[49m\u001b[43m,\u001b[49m\u001b[43m \u001b[49m\u001b[43mkwds\u001b[49m\u001b[43m)\u001b[49m\n",
      "File \u001b[1;32mc:\\Users\\s2712192\\AppData\\Local\\miniconda3\\envs\\pbi_environment\\Lib\\site-packages\\pandas\\io\\parsers\\readers.py:620\u001b[0m, in \u001b[0;36m_read\u001b[1;34m(filepath_or_buffer, kwds)\u001b[0m\n\u001b[0;32m    617\u001b[0m _validate_names(kwds\u001b[38;5;241m.\u001b[39mget(\u001b[38;5;124m\"\u001b[39m\u001b[38;5;124mnames\u001b[39m\u001b[38;5;124m\"\u001b[39m, \u001b[38;5;28;01mNone\u001b[39;00m))\n\u001b[0;32m    619\u001b[0m \u001b[38;5;66;03m# Create the parser.\u001b[39;00m\n\u001b[1;32m--> 620\u001b[0m parser \u001b[38;5;241m=\u001b[39m \u001b[43mTextFileReader\u001b[49m\u001b[43m(\u001b[49m\u001b[43mfilepath_or_buffer\u001b[49m\u001b[43m,\u001b[49m\u001b[43m \u001b[49m\u001b[38;5;241;43m*\u001b[39;49m\u001b[38;5;241;43m*\u001b[39;49m\u001b[43mkwds\u001b[49m\u001b[43m)\u001b[49m\n\u001b[0;32m    622\u001b[0m \u001b[38;5;28;01mif\u001b[39;00m chunksize \u001b[38;5;129;01mor\u001b[39;00m iterator:\n\u001b[0;32m    623\u001b[0m     \u001b[38;5;28;01mreturn\u001b[39;00m parser\n",
      "File \u001b[1;32mc:\\Users\\s2712192\\AppData\\Local\\miniconda3\\envs\\pbi_environment\\Lib\\site-packages\\pandas\\io\\parsers\\readers.py:1620\u001b[0m, in \u001b[0;36mTextFileReader.__init__\u001b[1;34m(self, f, engine, **kwds)\u001b[0m\n\u001b[0;32m   1617\u001b[0m     \u001b[38;5;28mself\u001b[39m\u001b[38;5;241m.\u001b[39moptions[\u001b[38;5;124m\"\u001b[39m\u001b[38;5;124mhas_index_names\u001b[39m\u001b[38;5;124m\"\u001b[39m] \u001b[38;5;241m=\u001b[39m kwds[\u001b[38;5;124m\"\u001b[39m\u001b[38;5;124mhas_index_names\u001b[39m\u001b[38;5;124m\"\u001b[39m]\n\u001b[0;32m   1619\u001b[0m \u001b[38;5;28mself\u001b[39m\u001b[38;5;241m.\u001b[39mhandles: IOHandles \u001b[38;5;241m|\u001b[39m \u001b[38;5;28;01mNone\u001b[39;00m \u001b[38;5;241m=\u001b[39m \u001b[38;5;28;01mNone\u001b[39;00m\n\u001b[1;32m-> 1620\u001b[0m \u001b[38;5;28mself\u001b[39m\u001b[38;5;241m.\u001b[39m_engine \u001b[38;5;241m=\u001b[39m \u001b[38;5;28;43mself\u001b[39;49m\u001b[38;5;241;43m.\u001b[39;49m\u001b[43m_make_engine\u001b[49m\u001b[43m(\u001b[49m\u001b[43mf\u001b[49m\u001b[43m,\u001b[49m\u001b[43m \u001b[49m\u001b[38;5;28;43mself\u001b[39;49m\u001b[38;5;241;43m.\u001b[39;49m\u001b[43mengine\u001b[49m\u001b[43m)\u001b[49m\n",
      "File \u001b[1;32mc:\\Users\\s2712192\\AppData\\Local\\miniconda3\\envs\\pbi_environment\\Lib\\site-packages\\pandas\\io\\parsers\\readers.py:1880\u001b[0m, in \u001b[0;36mTextFileReader._make_engine\u001b[1;34m(self, f, engine)\u001b[0m\n\u001b[0;32m   1878\u001b[0m     \u001b[38;5;28;01mif\u001b[39;00m \u001b[38;5;124m\"\u001b[39m\u001b[38;5;124mb\u001b[39m\u001b[38;5;124m\"\u001b[39m \u001b[38;5;129;01mnot\u001b[39;00m \u001b[38;5;129;01min\u001b[39;00m mode:\n\u001b[0;32m   1879\u001b[0m         mode \u001b[38;5;241m+\u001b[39m\u001b[38;5;241m=\u001b[39m \u001b[38;5;124m\"\u001b[39m\u001b[38;5;124mb\u001b[39m\u001b[38;5;124m\"\u001b[39m\n\u001b[1;32m-> 1880\u001b[0m \u001b[38;5;28mself\u001b[39m\u001b[38;5;241m.\u001b[39mhandles \u001b[38;5;241m=\u001b[39m \u001b[43mget_handle\u001b[49m\u001b[43m(\u001b[49m\n\u001b[0;32m   1881\u001b[0m \u001b[43m    \u001b[49m\u001b[43mf\u001b[49m\u001b[43m,\u001b[49m\n\u001b[0;32m   1882\u001b[0m \u001b[43m    \u001b[49m\u001b[43mmode\u001b[49m\u001b[43m,\u001b[49m\n\u001b[0;32m   1883\u001b[0m \u001b[43m    \u001b[49m\u001b[43mencoding\u001b[49m\u001b[38;5;241;43m=\u001b[39;49m\u001b[38;5;28;43mself\u001b[39;49m\u001b[38;5;241;43m.\u001b[39;49m\u001b[43moptions\u001b[49m\u001b[38;5;241;43m.\u001b[39;49m\u001b[43mget\u001b[49m\u001b[43m(\u001b[49m\u001b[38;5;124;43m\"\u001b[39;49m\u001b[38;5;124;43mencoding\u001b[39;49m\u001b[38;5;124;43m\"\u001b[39;49m\u001b[43m,\u001b[49m\u001b[43m \u001b[49m\u001b[38;5;28;43;01mNone\u001b[39;49;00m\u001b[43m)\u001b[49m\u001b[43m,\u001b[49m\n\u001b[0;32m   1884\u001b[0m \u001b[43m    \u001b[49m\u001b[43mcompression\u001b[49m\u001b[38;5;241;43m=\u001b[39;49m\u001b[38;5;28;43mself\u001b[39;49m\u001b[38;5;241;43m.\u001b[39;49m\u001b[43moptions\u001b[49m\u001b[38;5;241;43m.\u001b[39;49m\u001b[43mget\u001b[49m\u001b[43m(\u001b[49m\u001b[38;5;124;43m\"\u001b[39;49m\u001b[38;5;124;43mcompression\u001b[39;49m\u001b[38;5;124;43m\"\u001b[39;49m\u001b[43m,\u001b[49m\u001b[43m \u001b[49m\u001b[38;5;28;43;01mNone\u001b[39;49;00m\u001b[43m)\u001b[49m\u001b[43m,\u001b[49m\n\u001b[0;32m   1885\u001b[0m \u001b[43m    \u001b[49m\u001b[43mmemory_map\u001b[49m\u001b[38;5;241;43m=\u001b[39;49m\u001b[38;5;28;43mself\u001b[39;49m\u001b[38;5;241;43m.\u001b[39;49m\u001b[43moptions\u001b[49m\u001b[38;5;241;43m.\u001b[39;49m\u001b[43mget\u001b[49m\u001b[43m(\u001b[49m\u001b[38;5;124;43m\"\u001b[39;49m\u001b[38;5;124;43mmemory_map\u001b[39;49m\u001b[38;5;124;43m\"\u001b[39;49m\u001b[43m,\u001b[49m\u001b[43m \u001b[49m\u001b[38;5;28;43;01mFalse\u001b[39;49;00m\u001b[43m)\u001b[49m\u001b[43m,\u001b[49m\n\u001b[0;32m   1886\u001b[0m \u001b[43m    \u001b[49m\u001b[43mis_text\u001b[49m\u001b[38;5;241;43m=\u001b[39;49m\u001b[43mis_text\u001b[49m\u001b[43m,\u001b[49m\n\u001b[0;32m   1887\u001b[0m \u001b[43m    \u001b[49m\u001b[43merrors\u001b[49m\u001b[38;5;241;43m=\u001b[39;49m\u001b[38;5;28;43mself\u001b[39;49m\u001b[38;5;241;43m.\u001b[39;49m\u001b[43moptions\u001b[49m\u001b[38;5;241;43m.\u001b[39;49m\u001b[43mget\u001b[49m\u001b[43m(\u001b[49m\u001b[38;5;124;43m\"\u001b[39;49m\u001b[38;5;124;43mencoding_errors\u001b[39;49m\u001b[38;5;124;43m\"\u001b[39;49m\u001b[43m,\u001b[49m\u001b[43m \u001b[49m\u001b[38;5;124;43m\"\u001b[39;49m\u001b[38;5;124;43mstrict\u001b[39;49m\u001b[38;5;124;43m\"\u001b[39;49m\u001b[43m)\u001b[49m\u001b[43m,\u001b[49m\n\u001b[0;32m   1888\u001b[0m \u001b[43m    \u001b[49m\u001b[43mstorage_options\u001b[49m\u001b[38;5;241;43m=\u001b[39;49m\u001b[38;5;28;43mself\u001b[39;49m\u001b[38;5;241;43m.\u001b[39;49m\u001b[43moptions\u001b[49m\u001b[38;5;241;43m.\u001b[39;49m\u001b[43mget\u001b[49m\u001b[43m(\u001b[49m\u001b[38;5;124;43m\"\u001b[39;49m\u001b[38;5;124;43mstorage_options\u001b[39;49m\u001b[38;5;124;43m\"\u001b[39;49m\u001b[43m,\u001b[49m\u001b[43m \u001b[49m\u001b[38;5;28;43;01mNone\u001b[39;49;00m\u001b[43m)\u001b[49m\u001b[43m,\u001b[49m\n\u001b[0;32m   1889\u001b[0m \u001b[43m\u001b[49m\u001b[43m)\u001b[49m\n\u001b[0;32m   1890\u001b[0m \u001b[38;5;28;01massert\u001b[39;00m \u001b[38;5;28mself\u001b[39m\u001b[38;5;241m.\u001b[39mhandles \u001b[38;5;129;01mis\u001b[39;00m \u001b[38;5;129;01mnot\u001b[39;00m \u001b[38;5;28;01mNone\u001b[39;00m\n\u001b[0;32m   1891\u001b[0m f \u001b[38;5;241m=\u001b[39m \u001b[38;5;28mself\u001b[39m\u001b[38;5;241m.\u001b[39mhandles\u001b[38;5;241m.\u001b[39mhandle\n",
      "File \u001b[1;32mc:\\Users\\s2712192\\AppData\\Local\\miniconda3\\envs\\pbi_environment\\Lib\\site-packages\\pandas\\io\\common.py:873\u001b[0m, in \u001b[0;36mget_handle\u001b[1;34m(path_or_buf, mode, encoding, compression, memory_map, is_text, errors, storage_options)\u001b[0m\n\u001b[0;32m    868\u001b[0m \u001b[38;5;28;01melif\u001b[39;00m \u001b[38;5;28misinstance\u001b[39m(handle, \u001b[38;5;28mstr\u001b[39m):\n\u001b[0;32m    869\u001b[0m     \u001b[38;5;66;03m# Check whether the filename is to be opened in binary mode.\u001b[39;00m\n\u001b[0;32m    870\u001b[0m     \u001b[38;5;66;03m# Binary mode does not support 'encoding' and 'newline'.\u001b[39;00m\n\u001b[0;32m    871\u001b[0m     \u001b[38;5;28;01mif\u001b[39;00m ioargs\u001b[38;5;241m.\u001b[39mencoding \u001b[38;5;129;01mand\u001b[39;00m \u001b[38;5;124m\"\u001b[39m\u001b[38;5;124mb\u001b[39m\u001b[38;5;124m\"\u001b[39m \u001b[38;5;129;01mnot\u001b[39;00m \u001b[38;5;129;01min\u001b[39;00m ioargs\u001b[38;5;241m.\u001b[39mmode:\n\u001b[0;32m    872\u001b[0m         \u001b[38;5;66;03m# Encoding\u001b[39;00m\n\u001b[1;32m--> 873\u001b[0m         handle \u001b[38;5;241m=\u001b[39m \u001b[38;5;28;43mopen\u001b[39;49m\u001b[43m(\u001b[49m\n\u001b[0;32m    874\u001b[0m \u001b[43m            \u001b[49m\u001b[43mhandle\u001b[49m\u001b[43m,\u001b[49m\n\u001b[0;32m    875\u001b[0m \u001b[43m            \u001b[49m\u001b[43mioargs\u001b[49m\u001b[38;5;241;43m.\u001b[39;49m\u001b[43mmode\u001b[49m\u001b[43m,\u001b[49m\n\u001b[0;32m    876\u001b[0m \u001b[43m            \u001b[49m\u001b[43mencoding\u001b[49m\u001b[38;5;241;43m=\u001b[39;49m\u001b[43mioargs\u001b[49m\u001b[38;5;241;43m.\u001b[39;49m\u001b[43mencoding\u001b[49m\u001b[43m,\u001b[49m\n\u001b[0;32m    877\u001b[0m \u001b[43m            \u001b[49m\u001b[43merrors\u001b[49m\u001b[38;5;241;43m=\u001b[39;49m\u001b[43merrors\u001b[49m\u001b[43m,\u001b[49m\n\u001b[0;32m    878\u001b[0m \u001b[43m            \u001b[49m\u001b[43mnewline\u001b[49m\u001b[38;5;241;43m=\u001b[39;49m\u001b[38;5;124;43m\"\u001b[39;49m\u001b[38;5;124;43m\"\u001b[39;49m\u001b[43m,\u001b[49m\n\u001b[0;32m    879\u001b[0m \u001b[43m        \u001b[49m\u001b[43m)\u001b[49m\n\u001b[0;32m    880\u001b[0m     \u001b[38;5;28;01melse\u001b[39;00m:\n\u001b[0;32m    881\u001b[0m         \u001b[38;5;66;03m# Binary mode\u001b[39;00m\n\u001b[0;32m    882\u001b[0m         handle \u001b[38;5;241m=\u001b[39m \u001b[38;5;28mopen\u001b[39m(handle, ioargs\u001b[38;5;241m.\u001b[39mmode)\n",
      "\u001b[1;31mFileNotFoundError\u001b[0m: [Errno 2] No such file or directory: 'data.csv'"
     ]
    }
   ],
   "source": [
    "### Reading Data from Files\n",
    "\n",
    "#NB pandas has functions to read data from various file formats like CSV, Excel, SQL, HTML, JSON, etc.\n",
    "#NB I haven't attched files here!\n",
    "\n",
    "# Read a CSV file\n",
    "df = pd.read_csv('data.csv')\n",
    "\n",
    "# Read an Excel file\n",
    "df = pd.read_excel('data.xlsx')"
   ]
  },
  {
   "cell_type": "code",
   "execution_count": 5,
   "metadata": {},
   "outputs": [
    {
     "name": "stdout",
     "output_type": "stream",
     "text": [
      "0    28\n",
      "1    22\n",
      "2    34\n",
      "3    29\n",
      "Name: Age, dtype: int64\n",
      "<class 'pandas.core.series.Series'>\n",
      "\n",
      "\n",
      "   Name  Country\n",
      "0  John      USA\n",
      "1  Anna  Germany\n",
      "2   Xiu    China\n",
      "3  Wang    China\n",
      "\n",
      "\n",
      "   Name  Age  Country\n",
      "0  John   28      USA\n",
      "1  Anna   22  Germany\n",
      "2   Xiu   34    China\n",
      "3  Wang   29    China\n",
      "\n",
      "\n",
      "   Name  Age  Country\n",
      "0  John   28      USA\n",
      "1  Anna   22  Germany\n",
      "2   Xiu   34    China\n",
      "3  Wang   29    China\n"
     ]
    }
   ],
   "source": [
    "### Data Selection\n",
    "\n",
    "# Selecting a single column\n",
    "ages = df['Age']\n",
    "print(ages)\n",
    "# The type of the column is a pandas Series\n",
    "print(type(ages))\n",
    "print(\"\\n\")\n",
    "\n",
    "# Selecting multiple columns\n",
    "subset = df[['Name', 'Country']]\n",
    "print(subset)\n",
    "print(\"\\n\")\n",
    "\n",
    "# Select rows by position\n",
    "first_five = df.iloc[:5]\n",
    "print(first_five)\n",
    "print(\"\\n\")\n",
    "\n",
    "# Select rows by condition\n",
    "adults = df[df['Age'] >= 18]\n",
    "print(adults)"
   ]
  },
  {
   "cell_type": "code",
   "execution_count": 6,
   "metadata": {},
   "outputs": [
    {
     "name": "stdout",
     "output_type": "stream",
     "text": [
      "   Name   Age  Country\n",
      "0  John  28.0      USA\n",
      "1  Anna   NaN  Germany\n",
      "2   Xiu  34.0     None\n",
      "3  Wang  29.0    China\n",
      "\n",
      "\n",
      "    Name    Age  Country\n",
      "0  False  False    False\n",
      "1  False   True    False\n",
      "2  False  False     True\n",
      "3  False  False    False\n",
      "\n",
      "\n",
      "   Name   Age Country\n",
      "0  John  28.0     USA\n",
      "3  Wang  29.0   China\n",
      "\n",
      "\n",
      "   Name      Age  Country\n",
      "0  John     28.0      USA\n",
      "1  Anna  Unknown  Germany\n",
      "2   Xiu     34.0  Unknown\n",
      "3  Wang     29.0    China\n"
     ]
    }
   ],
   "source": [
    "### Handling Missing Data\n",
    "\n",
    "# add some missing values to the DataFrame\n",
    "df.loc[1, 'Age'] = None\n",
    "df.loc[2, 'Country'] = None\n",
    "print(df)\n",
    "print(\"\\n\")\n",
    "\n",
    "# Check for missing values\n",
    "print(df.isnull())\n",
    "print(\"\\n\")\n",
    "\n",
    "# Drop rows with any missing values\n",
    "clean_df = df.dropna()\n",
    "print(clean_df)\n",
    "print(\"\\n\")\n",
    "\n",
    "# Fill missing values with a specific value\n",
    "filled_df = df.fillna(value=\"Unknown\")\n",
    "print(filled_df)"
   ]
  },
  {
   "cell_type": "code",
   "execution_count": 7,
   "metadata": {},
   "outputs": [
    {
     "name": "stdout",
     "output_type": "stream",
     "text": [
      "   Name  Age  Country\n",
      "0  John   28      USA\n",
      "1  Anna   22  Germany\n",
      "2   Xiu   34    China\n",
      "3  Wang   29    China\n",
      "\n",
      "\n",
      "   Name  Age  Country  AgePlusTen            Description\n",
      "0  John   28      USA          38      John is from USA.\n",
      "1  Anna   22  Germany          32  Anna is from Germany.\n",
      "2   Xiu   34    China          44     Xiu is from China.\n",
      "3  Wang   29    China          39    Wang is from China.\n",
      "\n",
      "\n"
     ]
    }
   ],
   "source": [
    "### Applying Functions\n",
    "\n",
    "# reset the DataFrame\n",
    "data = {'Name': ['John', 'Anna', 'Xiu', 'Wang'],\n",
    "        'Age': [28, 22, 34, 29],\n",
    "        'Country': ['USA', 'Germany', 'China', 'China']}\n",
    "df = pd.DataFrame(data)\n",
    "\n",
    "print(df)\n",
    "print(\"\\n\")\n",
    "\n",
    "# Apply a lambda function to a column\n",
    "df['AgePlusTen'] = df['Age'].apply(lambda x: x + 10)\n",
    "\n",
    "# Apply a function to multiple columns\n",
    "def process(row):\n",
    "    return f\"{row['Name']} is from {row['Country']}.\"\n",
    "\n",
    "df['Description'] = df.apply(process, axis=1)\n",
    "\n",
    "print(df)\n",
    "print(\"\\n\")"
   ]
  },
  {
   "cell_type": "code",
   "execution_count": 8,
   "metadata": {},
   "outputs": [
    {
     "name": "stdout",
     "output_type": "stream",
     "text": [
      "Country\n",
      "China      63\n",
      "Germany    22\n",
      "USA        28\n",
      "Name: Age, dtype: int64\n",
      "\n",
      "\n",
      "          Age        \n",
      "         mean min max\n",
      "Country              \n",
      "China    31.5  29  34\n",
      "Germany  22.0  22  22\n",
      "USA      28.0  28  28\n"
     ]
    }
   ],
   "source": [
    "### Grouping and Aggregating\n",
    "\n",
    "# Group data by a column and sum another column\n",
    "country_age_sum = df.groupby('Country')['Age'].sum()\n",
    "print(country_age_sum)\n",
    "print(\"\\n\")\n",
    "\n",
    "# More complex aggregations\n",
    "stats = df.groupby('Country').agg({'Age': ['mean', 'min', 'max']})\n",
    "print(stats)"
   ]
  },
  {
   "cell_type": "code",
   "execution_count": 9,
   "metadata": {},
   "outputs": [
    {
     "name": "stdout",
     "output_type": "stream",
     "text": [
      "Name     Anna  John  Wang   Xiu\n",
      "Country                        \n",
      "China     NaN   NaN  29.0  34.0\n",
      "Germany  22.0   NaN   NaN   NaN\n",
      "USA       NaN  28.0   NaN   NaN\n"
     ]
    }
   ],
   "source": [
    "### Pivot Tables\n",
    "pivot_table = pd.pivot_table(df, values='Age', index='Country', columns='Name', aggfunc='mean')\n",
    "print(pivot_table)"
   ]
  },
  {
   "cell_type": "code",
   "execution_count": 10,
   "metadata": {},
   "outputs": [
    {
     "name": "stdout",
     "output_type": "stream",
     "text": [
      "   Name  Salary\n",
      "0  John   50000\n",
      "1  Anna   62000\n",
      "2   Xiu   45000\n",
      "\n",
      "\n",
      "   Name  Age  Country  AgePlusTen            Description  Salary\n",
      "0  John   28      USA          38      John is from USA.   50000\n",
      "1  Anna   22  Germany          32  Anna is from Germany.   62000\n",
      "2   Xiu   34    China          44     Xiu is from China.   45000\n"
     ]
    }
   ],
   "source": [
    "### Merging and Joining\n",
    "\n",
    "# Creating another DataFrame\n",
    "other_data = {'Name': ['John', 'Anna', 'Xiu'],\n",
    "              'Salary': [50000, 62000, 45000]}\n",
    "other_df = pd.DataFrame(other_data)\n",
    "\n",
    "print(other_df)\n",
    "print(\"\\n\")\n",
    "\n",
    "# Merge DataFrames\n",
    "merged_df = pd.merge(df, other_df, on='Name')\n",
    "print(merged_df)"
   ]
  },
  {
   "cell_type": "code",
   "execution_count": 11,
   "metadata": {},
   "outputs": [
    {
     "data": {
      "image/png": "[encoded data removed]",
      "text/plain": [
       "<Figure size 640x480 with 1 Axes>"
      ]
     },
     "metadata": {},
     "output_type": "display_data"
    }
   ],
   "source": [
    "### Plotting Data\n",
    "\n",
    "import matplotlib.pyplot as plt\n",
    "\n",
    "# Simple plot of ages\n",
    "df['Age'].plot(kind='bar')\n",
    "plt.title('Age Distribution')\n",
    "plt.xlabel('Index')\n",
    "plt.ylabel('Age')\n",
    "plt.show()"
   ]
  },
  {
   "cell_type": "code",
   "execution_count": 12,
   "metadata": {},
   "outputs": [
    {
     "name": "stdout",
     "output_type": "stream",
     "text": [
      "DataFrame 1:\n",
      "   EmployeeID   Name\n",
      "0           1  Alice\n",
      "1           2    Bob\n",
      "2           3  Cindy\n",
      "3           4  David\n",
      "\n",
      "DataFrame 2:\n",
      "   EmployeeID  Salary\n",
      "0           3   70000\n",
      "1           4   85000\n",
      "2           5   65000\n",
      "3           6   74000\n"
     ]
    }
   ],
   "source": [
    "### Examples of DatFrame Merging and Joining\n",
    "\n",
    "# DataFrame 1\n",
    "data1 = {\n",
    "    'EmployeeID': [1, 2, 3, 4],\n",
    "    'Name': ['Alice', 'Bob', 'Cindy', 'David']\n",
    "}\n",
    "df1 = pd.DataFrame(data1)\n",
    "\n",
    "# DataFrame 2\n",
    "data2 = {\n",
    "    'EmployeeID': [3, 4, 5, 6],\n",
    "    'Salary': [70000, 85000, 65000, 74000]\n",
    "}\n",
    "df2 = pd.DataFrame(data2)\n",
    "\n",
    "print(\"DataFrame 1:\")\n",
    "print(df1)\n",
    "print(\"\\nDataFrame 2:\")\n",
    "print(df2)"
   ]
  },
  {
   "cell_type": "code",
   "execution_count": 13,
   "metadata": {},
   "outputs": [
    {
     "name": "stdout",
     "output_type": "stream",
     "text": [
      "   EmployeeID   Name  Salary\n",
      "0           3  Cindy   70000\n",
      "1           4  David   85000\n"
     ]
    }
   ],
   "source": [
    "### Inner Join\n",
    "\n",
    "'''An inner join retrieves rows that have matching values in both DataFrames.'''\n",
    "\n",
    "# Inner join on 'EmployeeID'\n",
    "inner_merged_df = pd.merge(df1, df2, on='EmployeeID', how='inner')\n",
    "print(inner_merged_df)"
   ]
  },
  {
   "cell_type": "code",
   "execution_count": 14,
   "metadata": {},
   "outputs": [
    {
     "name": "stdout",
     "output_type": "stream",
     "text": [
      "   EmployeeID   Name   Salary\n",
      "0           1  Alice      NaN\n",
      "1           2    Bob      NaN\n",
      "2           3  Cindy  70000.0\n",
      "3           4  David  85000.0\n",
      "4           5    NaN  65000.0\n",
      "5           6    NaN  74000.0\n"
     ]
    }
   ],
   "source": [
    "### Outer Join\n",
    "\n",
    "'''An outer join retrieves all rows from both DataFrames, filling in NA for missing matches.'''\n",
    "\n",
    "# Outer join on 'EmployeeID'\n",
    "outer_merged_df = pd.merge(df1, df2, on='EmployeeID', how='outer')\n",
    "print(outer_merged_df)"
   ]
  },
  {
   "cell_type": "code",
   "execution_count": 15,
   "metadata": {},
   "outputs": [
    {
     "name": "stdout",
     "output_type": "stream",
     "text": [
      "   EmployeeID   Name   Salary\n",
      "0           1  Alice      NaN\n",
      "1           2    Bob      NaN\n",
      "2           3  Cindy  70000.0\n",
      "3           4  David  85000.0\n"
     ]
    }
   ],
   "source": [
    "### Left Join\n",
    "\n",
    "'''A left join retrieves all rows from the left DataFrame and the matched rows from the right DataFrame.\n",
    "Rows in the left DataFrame that do not have a match in the right DataFrame will have NA in the result.'''\n",
    "\n",
    "# Left join on 'EmployeeID'\n",
    "left_merged_df = pd.merge(df1, df2, on='EmployeeID', how='left')\n",
    "print(left_merged_df)"
   ]
  },
  {
   "cell_type": "code",
   "execution_count": 16,
   "metadata": {},
   "outputs": [
    {
     "name": "stdout",
     "output_type": "stream",
     "text": [
      "   EmployeeID   Name  Salary\n",
      "0           3  Cindy   70000\n",
      "1           4  David   85000\n",
      "2           5    NaN   65000\n",
      "3           6    NaN   74000\n"
     ]
    }
   ],
   "source": [
    "### Right Join\n",
    "\n",
    "'''A right join retrieves all rows from the right DataFrame and the matched rows from the left DataFrame.\n",
    "Rows in the right DataFrame that do not have a match in the left DataFrame will have NA in the result.'''\n",
    "\n",
    "# Right join on 'EmployeeID'\n",
    "right_merged_df = pd.merge(df1, df2, on='EmployeeID', how='right')\n",
    "print(right_merged_df)"
   ]
  }
 ],
 "metadata": {
  "kernelspec": {
   "display_name": "pbi_dev",
   "language": "python",
   "name": "python3"
  },
  "language_info": {
   "codemirror_mode": {
    "name": "ipython",
    "version": 3
   },
   "file_extension": ".py",
   "mimetype": "text/x-python",
   "name": "python",
   "nbconvert_exporter": "python",
   "pygments_lexer": "ipython3",
   "version": "3.12.6"
  }
 },
 "nbformat": 4,
 "nbformat_minor": 2
}
